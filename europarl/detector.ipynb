{
 "cells": [
  {
   "cell_type": "code",
   "execution_count": 1,
   "metadata": {},
   "outputs": [
    {
     "name": "stderr",
     "output_type": "stream",
     "text": [
      "/Users/eight1911/learn/lib/python3.6/site-packages/h5py/__init__.py:36: FutureWarning: Conversion of the second argument of issubdtype from `float` to `np.floating` is deprecated. In future, it will be treated as `np.float64 == np.dtype(float).type`.\n",
      "  from ._conv import register_converters as _register_converters\n"
     ]
    }
   ],
   "source": [
    "import re\n",
    "import os\n",
    "import time\n",
    "import random\n",
    "import numpy as np\n",
    "import numpy.random as rd\n",
    "import tensorflow as tf\n",
    "\n",
    "import matplotlib.pyplot as plt"
   ]
  },
  {
   "cell_type": "code",
   "execution_count": 2,
   "metadata": {},
   "outputs": [],
   "source": [
    "import threading\n",
    "import functools\n",
    "\n",
    "def threadify(func):\n",
    "    \"function runs in a new thread.\"\n",
    "\n",
    "    @functools.wraps(func)\n",
    "    def run(*args, **kwds):\n",
    "        new_thread = threading.Thread(\n",
    "            target = func,\n",
    "            args   = args,\n",
    "            kwargs = kwds)\n",
    "        new_thread.start()\n",
    "        return new_thread\n",
    "\n",
    "    return run"
   ]
  },
  {
   "cell_type": "markdown",
   "metadata": {},
   "source": [
    "The class below is just a notational convenience. `obj = Object(d)` lets us access `d[\"key\"]` by calling `obj.key`."
   ]
  },
  {
   "cell_type": "code",
   "execution_count": 3,
   "metadata": {},
   "outputs": [],
   "source": [
    "class Object:\n",
    "    \n",
    "    def __init__(self, d=None):\n",
    "        if d is None:\n",
    "            return\n",
    "        for i in d: \n",
    "            setattr(self, i, d[i])"
   ]
  },
  {
   "cell_type": "markdown",
   "metadata": {},
   "source": [
    "Below we define how we handle the data. The main data folder contains twenty one subfolders, one for each language. Each subfolder contains multiple files, each with a short sentence or paragraph written (or spoken) in that language. We joined these files together, separated by the token `\" | \"` which does not appear in any of the files and treat the resulting string as an example of the language.\n",
    "\n",
    "This gives us twenty one long strings. To sample from the dataset, we pick a random language and pick random subsection of the string of length `model.size.window` without regard to the cutoffs of sentences.\n",
    "\n",
    "We also add another character `\"error\"` into the character set and with some probability randomly corrupt characters in the sentence into the error character. This is to add noise to the text and allow the network to be able to classify sentences with characters it has not seen before."
   ]
  },
  {
   "cell_type": "code",
   "execution_count": 4,
   "metadata": {},
   "outputs": [],
   "source": [
    "class InputData:\n",
    "    \n",
    "    @staticmethod\n",
    "    def read(path):\n",
    "\n",
    "        def parse(path, files):\n",
    "            print(\"parsing files in\", path)\n",
    "            pattern = re.compile('<[^>]*>')\n",
    "            strings = []\n",
    "            for name in files:\n",
    "                subpath = path + \"/\"+ name\n",
    "                f = open(subpath, errors='replace')\n",
    "                text = f.read().strip()\n",
    "                entry = re.sub(pattern, '', text)\n",
    "                strings.append(entry)\n",
    "                f.close()\n",
    "            return strings\n",
    "\n",
    "        def read(path):\n",
    "            scanner = os.walk(path)\n",
    "            _, folders, _ = next(scanner)\n",
    "            return {name: parse(name, files)\n",
    "                    for name, _, files in scanner}\n",
    "\n",
    "        def main(path):\n",
    "            strings = read(path)\n",
    "            joined = { lang: \" | \".join(strings[lang]) \n",
    "                       for lang in strings }\n",
    "            charset = { lang: set(joined[lang]) \n",
    "                        for lang in joined }\n",
    "            languages = sorted(charset)\n",
    "\n",
    "            return {\n",
    "                # \"strings\"   : strings,\n",
    "                \"joined\"    : joined,\n",
    "                \"charset\"   : charset,\n",
    "                \"languages\" : languages\n",
    "            }\n",
    "\n",
    "        return main(path)\n",
    "\n",
    "    def __init__(self, path, data=None):\n",
    "        if data is None:\n",
    "            data = InputData.read(path)\n",
    "        # self.strings = data[\"strings\"]\n",
    "        self.joined  = data[\"joined\"]\n",
    "        self.charset = data[\"charset\"]\n",
    "        self.languages = data[\"languages\"]\n",
    "        self.uniques = set([\"error\"])\n",
    "        for lang in self.charset:\n",
    "            self.uniques.update(self.charset[lang])\n",
    "        # self.uniques.update([i for c in self.uniques for i in c.upper()])\n",
    "        # self.uniques.update([i for c in self.uniques for i in c.lower()])\n",
    "        self.uniques = sorted(self.uniques)\n",
    "        self.toindex = { c : i for i, c in enumerate(self.uniques) }\n",
    "\n",
    "    def stream(self, window, batch, error=0.01):\n",
    "        n = len(self.languages)\n",
    "        errind = self.toindex[\"error\"]\n",
    "\n",
    "        def nextpoint(window):\n",
    "            index = rd.choice(n)\n",
    "            string = self.joined[self.languages[index]]\n",
    "            start = rd.choice(len(string) - window)\n",
    "            substring = string[start:start+window]\n",
    "\n",
    "            # add random all upper case and all lower case data \n",
    "            # rand = random.random() \n",
    "            # if rand > 0.9:\n",
    "            #    substring = substring.lower()[:window_size]\n",
    "            # if rand < 0.05:\n",
    "            #     substring = substring.upper()[:window_size]\n",
    "\n",
    "            inputs = np.array([self.toindex[c] for c in substring])\n",
    "            if error > 0:\n",
    "                e = rd.binomial(1, error, len(substring))\n",
    "                mask = e.astype(bool)\n",
    "                inputs[mask] = errind\n",
    "            return np.repeat(index, window), inputs\n",
    "\n",
    "        def iterate():\n",
    "            while True:\n",
    "                data = [nextpoint(window) for _ in range(batch)]\n",
    "                labels, inputs = zip(*data)\n",
    "                yield np.vstack(labels), np.array(inputs)\n",
    "\n",
    "        return iterate()"
   ]
  },
  {
   "cell_type": "code",
   "execution_count": 7,
   "metadata": {},
   "outputs": [],
   "source": [
    "_data = data\n",
    "__data = {i:getattr(_data, i) for i in [\"joined\", \"languages\", \"charset\"]}"
   ]
  },
  {
   "cell_type": "code",
   "execution_count": 6,
   "metadata": {},
   "outputs": [
    {
     "name": "stdout",
     "output_type": "stream",
     "text": [
      "parsing files in ./text/bg\n",
      "parsing files in ./text/cs\n",
      "parsing files in ./text/da\n",
      "parsing files in ./text/de\n",
      "parsing files in ./text/el\n",
      "parsing files in ./text/en\n",
      "parsing files in ./text/es\n",
      "parsing files in ./text/et\n",
      "parsing files in ./text/fi\n",
      "parsing files in ./text/fr\n",
      "parsing files in ./text/hu\n",
      "parsing files in ./text/it\n",
      "parsing files in ./text/lt\n",
      "parsing files in ./text/lv\n",
      "parsing files in ./text/nl\n",
      "parsing files in ./text/pl\n",
      "parsing files in ./text/pt\n",
      "parsing files in ./text/ro\n",
      "parsing files in ./text/sk\n",
      "parsing files in ./text/sl\n",
      "parsing files in ./text/sv\n"
     ]
    }
   ],
   "source": [
    "data = InputData(\"./text/\")\n",
    "# data = InputData(\"./text/\", __data)"
   ]
  },
  {
   "cell_type": "code",
   "execution_count": 7,
   "metadata": {},
   "outputs": [
    {
     "name": "stdout",
     "output_type": "stream",
     "text": [
      "total number of characters: 4499444944\n",
      "total number of unique characters: 497\n"
     ]
    }
   ],
   "source": [
    "num_chars = sum(len(corp) for corp in data.joined.values())\n",
    "num_uniques = len(data.uniques)\n",
    "print(\"total number of characters:\", num_chars)\n",
    "print(\"total number of unique characters:\", num_uniques)"
   ]
  },
  {
   "cell_type": "markdown",
   "metadata": {},
   "source": [
    "We use a standard stacked LSTM classifier with a window size of 130. Each of the 130 outputs is matched with 130 identical labels from the same language. Then, we use a square root weight (`np.linspace(0, 1, size.window) ** 0.5`) to weight the loss of each output such that the loss of each output increases as the information that is fed into the neural network increases, i.e., we penalize the network more if it chooses a wrong answer when given a lot of information than if it was given little information."
   ]
  },
  {
   "cell_type": "code",
   "execution_count": 8,
   "metadata": {},
   "outputs": [],
   "source": [
    "class Model:\n",
    "        \n",
    "    def makemodel(self):\n",
    "        train = Object() # for training\n",
    "        valid = Object() # for validation and testing\n",
    "        param = param = Object()\n",
    "        \n",
    "        size = self.size\n",
    "        uniques = len(self.data.uniques)\n",
    "    \n",
    "        \n",
    "        param.p = tf.placeholder(tf.float64)\n",
    "        param.rate = tf.placeholder(tf.float64)\n",
    "        param.std = 1 / np.sqrt(size.rnn + size.output)\n",
    "        param.emb = tf.Variable(param.std * rd.randn(uniques, size.rnn))\n",
    "        param.dec = [tf.Variable(param.std * rd.randn(size.rnn, size.output)),\n",
    "                     tf.zeros(size.output, tf.float64)]\n",
    "        cell = lambda size, p: (tf.nn.rnn_cell.DropoutWrapper\n",
    "                               (tf.nn.rnn_cell.LSTMCell(size), p))\n",
    "        cells = [cell(size.rnn, param.p) for _ in range(size.layers)]\n",
    "        param.lstm = lstm = tf.nn.rnn_cell.MultiRNNCell(cells)\n",
    "    \n",
    "        # ENTER TRAINING MODE\n",
    "        mode = train\n",
    "        mode.x = tf.placeholder(tf.int64, [size.batch, size.window])\n",
    "        mode.y = tf.placeholder(tf.int64, [size.batch, size.window])\n",
    "        mode.inp = tf.nn.embedding_lookup(param.emb, mode.x)\n",
    "        state = lstm.zero_state(size.batch, tf.float64)\n",
    "        mode.outputs = []\n",
    "        mode.states = []\n",
    "        for i in range(size.window):\n",
    "            i % 5 or print(\".\", end=\"\")\n",
    "            output, state = lstm(mode.inp[:,i], state)\n",
    "            mode.outputs.append(output)\n",
    "            mode.states.append(state)\n",
    "        mode.outputs = tf.stack(mode.outputs, axis=1)\n",
    "        mode.outputs = tf.tensordot(mode.outputs, param.dec[0], [[2], [0]]) + param.dec[1]\n",
    "        mode.preloss = tf.nn.sparse_softmax_cross_entropy_with_logits(\n",
    "            logits=mode.outputs, labels=mode.y)\n",
    "        weights = np.linspace(0, 1, size.window) ** 0.5\n",
    "        mode.loss = tf.reduce_mean(weights * mode.preloss)\n",
    "\n",
    "        mode.optimizer = tf.train.AdamOptimizer(param.rate)\n",
    "        mode.minimizer = mode.optimizer.minimize(mode.loss)\n",
    "\n",
    "        # ENTER VALIDATION MODE\n",
    "        print()\n",
    "        mode = valid\n",
    "        mode.x = tf.placeholder(tf.int64, size.window)\n",
    "        mode.inp = tf.nn.embedding_lookup(param.emb, mode.x)\n",
    "        mode.inp = tf.reshape(mode.inp, [1, *mode.inp.shape])\n",
    "        state = lstm.zero_state(1, tf.float64)\n",
    "        mode.outputs = []\n",
    "        mode.states = []\n",
    "        for i in range(size.window):\n",
    "            i % 5 or print(\".\", end=\"\")\n",
    "            output, state = lstm(mode.inp[:, i], state)\n",
    "            mode.outputs.append(output)\n",
    "            mode.states.append(state)\n",
    "        mode.outputs = tf.stack(mode.outputs, axis=0)\n",
    "        mode.states =  tf.stack(mode.states, axis=0)\n",
    "        mode.outputs = tf.tensordot(mode.outputs, param.dec[0], [[2], [0]]) + param.dec[1]\n",
    "\n",
    "        return Object({\n",
    "            \"train\": train,\n",
    "            \"valid\": valid,\n",
    "            \"param\": param\n",
    "        })\n",
    "\n",
    "    def __init__(self, data):\n",
    "        self.size = Object({\n",
    "            \"rnn\"    : 40,\n",
    "            \"layers\" : 2,\n",
    "            \"batch\"  : 30,\n",
    "            \"window\" : 130,\n",
    "            \"output\" : 21\n",
    "        })\n",
    "        self.data = data\n",
    "        self.model = self.makemodel()\n",
    "        self.sess = tf.Session()\n",
    "        self.sess.run(tf.global_variables_initializer())\n",
    "\n",
    "    def predict(self, sentence):\n",
    "        window = self.size.window \n",
    "        sentence = sentence.strip()\n",
    "        if len(sentence) > window - 3:\n",
    "            sentence = sentence[:window-3]\n",
    "        new_s = \"| \" + sentence + \" \" * (window - len(sentence) - 2)\n",
    "        E = self.data.toindex[\"error\"]\n",
    "        toindex = self.data.toindex\n",
    "        inp = [toindex[i] if i in toindex else E for i in new_s]\n",
    "        valid = self.model.valid\n",
    "        outvec = self.sess.run(valid.outputs, feed_dict = { \n",
    "            self.model.valid.x : inp,\n",
    "            self.model.param.p : 1.0,\n",
    "        })\n",
    "        outvec = outvec.reshape(window, self.size.output)\n",
    "        return outvec[len(sentence) - 1]\n",
    "\n",
    "    @threadify\n",
    "    def train(self, iterations, meta):\n",
    "        data = self.data\n",
    "        stream = data.stream(self.size.window, self.size.batch)\n",
    "        train = self.model.train\n",
    "        tensor = [train.loss, tf.argmax(train.outputs, axis=2), train.minimizer]\n",
    "        running_rate = []\n",
    "        running_acc = 0\n",
    "        for iteration in range(iterations):\n",
    "            if not meta.running: \n",
    "                return print(\"break\")\n",
    "            lab, inp = next(stream)\n",
    "            l, pred, _ = self.sess.run(tensor, feed_dict={\n",
    "                self.model.train.x : inp,\n",
    "                self.model.train.y : lab,\n",
    "                self.model.param.p : 0.5,\n",
    "                self.model.param.rate : meta.rate\n",
    "            })\n",
    "            meta.iteration = iteration\n",
    "            if iteration % 500 == 499:\n",
    "                meta.accuracy.append(np.mean(running_rate, axis=0))\n",
    "                running_rate = []\n",
    "            acc = (pred == lab).mean(axis=0)\n",
    "            running_rate.append(acc)\n",
    "            meta.run_acc *= 0.99\n",
    "            meta.run_acc += 0.01 * acc\n",
    "        \n",
    "            "
   ]
  },
  {
   "cell_type": "code",
   "execution_count": 9,
   "metadata": {},
   "outputs": [
    {
     "name": "stdout",
     "output_type": "stream",
     "text": [
      "..........................\n",
      ".........................."
     ]
    }
   ],
   "source": [
    "random.seed(0)\n",
    "tf.set_random_seed(0)\n",
    "rd.seed(0)\n",
    "tf.reset_default_graph()\n",
    "m = Model(data)"
   ]
  },
  {
   "cell_type": "code",
   "execution_count": 10,
   "metadata": {},
   "outputs": [],
   "source": [
    "# \"\"\"\n",
    "meta = Object({\n",
    "    \"iteration\" : 0,\n",
    "    \"accuracy\"  : [],\n",
    "    \"running\"   : True,\n",
    "    \"run_acc\"   : np.zeros(130),\n",
    "    \"rate\"      : 1e-3\n",
    "})\n",
    "# \"\"\""
   ]
  },
  {
   "cell_type": "code",
   "execution_count": 11,
   "metadata": {},
   "outputs": [
    {
     "data": {
      "text/plain": [
       "<Thread(Thread-4, started 123145472536576)>"
      ]
     },
     "execution_count": 11,
     "metadata": {},
     "output_type": "execute_result"
    }
   ],
   "source": [
    "m.train(50000, meta)"
   ]
  },
  {
   "cell_type": "code",
   "execution_count": 141,
   "metadata": {},
   "outputs": [
    {
     "data": {
      "text/plain": [
       "<Thread(Thread-5, started 123145472536576)>"
      ]
     },
     "execution_count": 141,
     "metadata": {},
     "output_type": "execute_result"
    }
   ],
   "source": [
    "meta.rate = 5e-4\n",
    "m.train(20000, meta)"
   ]
  },
  {
   "cell_type": "code",
   "execution_count": 167,
   "metadata": {},
   "outputs": [
    {
     "name": "stdout",
     "output_type": "stream",
     "text": [
      "19999 : 0.9163 : 0.9695 : 0.9939 : 0.9993"
     ]
    }
   ],
   "source": [
    "# while True:\n",
    "    # time.sleep(0.5)\n",
    "acc = meta.run_acc\n",
    "p = (meta.iteration, acc[30], acc[50], acc[85], acc[129])\n",
    "print(\"\\r%d : %.4f : %.4f : %.4f : %.4f\" % p, end=\"\")"
   ]
  },
  {
   "cell_type": "code",
   "execution_count": 168,
   "metadata": {},
   "outputs": [
    {
     "data": {
      "image/png": "[encoded data removed]",
      "text/plain": [
       "<matplotlib.figure.Figure at 0x138a964a8>"
      ]
     },
     "metadata": {},
     "output_type": "display_data"
    }
   ],
   "source": [
    "for i in [29, 49, 84, 129]:\n",
    "    plt.plot([1-a[i] for a in meta.accuracy], label=f\"length$={i+1}$\")\n",
    "plt.yscale(\"log\")\n",
    "plt.title(\"prediction error vs. number of iterations trained\")\n",
    "plt.xlabel(\"number of iterations x500\")\n",
    "plt.ylabel(\"prediction error\")\n",
    "plt.legend()\n",
    "plt.show()"
   ]
  },
  {
   "cell_type": "code",
   "execution_count": 169,
   "metadata": {},
   "outputs": [
    {
     "data": {
      "image/png": "[encoded data removed]",
      "text/plain": [
       "<matplotlib.figure.Figure at 0x138c9e390>"
      ]
     },
     "metadata": {},
     "output_type": "display_data"
    }
   ],
   "source": [
    "for i in range(24, len(meta.accuracy), 25):\n",
    "    plt.plot(1.0-meta.accuracy[i], label=f\"iterations$={500*(i+1)}$\")\n",
    "plt.plot(1.0-meta.accuracy[-1], label=f\"iterations$={500*len(meta.accuracy)}$\")\n",
    "plt.yscale(\"log\")\n",
    "plt.title(\"prediction error vs. sample length\")\n",
    "plt.xlabel(\"sample length (chars)\")\n",
    "plt.ylabel(\"prediction error\")\n",
    "plt.legend()\n",
    "plt.show()"
   ]
  },
  {
   "cell_type": "code",
   "execution_count": 81,
   "metadata": {},
   "outputs": [],
   "source": [
    "import csv\n",
    "with open(\"./europarl.test\", \"r\") as f:\n",
    "    reader = csv.reader(f, delimiter=\"\\t\")\n",
    "    reader = [*reader]\n"
   ]
  },
  {
   "cell_type": "code",
   "execution_count": 155,
   "metadata": {},
   "outputs": [
    {
     "name": "stdout",
     "output_type": "stream",
     "text": [
      "20828\n",
      " iteration: 20800 with accuracy: 0.99375"
     ]
    }
   ],
   "source": [
    "\n",
    "count = len(reader)\n",
    "correct = 0\n",
    "errors = []\n",
    "random.shuffle(reader)\n",
    "print(len(reader))\n",
    "for i, (lab, text) in enumerate(reader):\n",
    "    p = m.predict(text[:127])\n",
    "    p = m.data.languages[np.argmax(p)]\n",
    "    correct = correct + (lab == p[-2:])\n",
    "    if lab != p[-2:]:\n",
    "        errors.append((p[-2:], lab, text))\n",
    "    if i % 100 == 99:\n",
    "        print(\"\\r iteration:\", i+1, \"with accuracy:\", correct / (i + 1), end=\"\")"
   ]
  },
  {
   "cell_type": "code",
   "execution_count": 156,
   "metadata": {},
   "outputs": [
    {
     "name": "stdout",
     "output_type": "stream",
     "text": [
      "correctly predicted 20698 out of 20828 samples: 99.38% accuracy.\n"
     ]
    }
   ],
   "source": [
    "print(\"correctly predicted\", correct, \"out of\", count, \"samples: \"\n",
    "      \"{0:.2f}% accuracy.\".format(100 * correct / count))"
   ]
  },
  {
   "cell_type": "code",
   "execution_count": 165,
   "metadata": {},
   "outputs": [
    {
     "name": "stdout",
     "output_type": "stream",
     "text": [
      " ( cs )  Jmenovali se William Meyer, Bernard Starie, Reginald Pike, Thomas Shaw, James McLeish, Archibald Barrowman a Albert Roberts a všichni budou v sobotu vyznamenáni.\n",
      " ( lv )  Apsveicu, Pagano kundze.\n",
      " ( sk )  Ako ostatní, aj ja si myslím, že toto je základ a nie koniec.\n",
      " ( ro )  Votul va avea loc azi la ora 12.\n",
      " ( nl )  Water is echter niet gratis.\n",
      " ( fr )  Je terminerai cependant sur un appel.\n",
      " ( nl )  Ik noem nog enkele belangrijke regionale uitdagingen.\n",
      " ( pt )  Relatório Thyssen (A4-0137/99)\n",
      " ( es )  Es responsabilidad nuestra evitar esto.\n",
      " ( sk )  Rozsudok histórie je zrejmý.\n",
      " ( pl )  Obecnie tekst brzmi:\n",
      " ( sk )  Hlasovanie sa uskutoční v stredu.\n",
      " ( nl )  Dit instrument is in dit opzicht dus volledig tekortgeschoten.\n",
      " ( fr )  Y a-t-il des observations?\n",
      " ( es )  Son declaraciones sin ambigüedades.\n",
      " ( sk )  Táto správa je vyvážená a stanovuje hlavné geostrategické výzvy Južného Kaukazu.\n",
      " ( cs )  Bianco šek pro budoucnost, která zpráva požaduje, nelze brát vážně.\n",
      " ( es )  Con esto concluye la votación\n",
      " ( cs )  Avšak doba, kdy to bylo rozhodnuto uskutečnit, je velmi obtížná.\n",
      " ( pt )  Relatório Pollack (A4-0161/98)\n",
      " ( et )  See on meie eesmärk.\n",
      " ( nl )  Op dit punt faalt Stockholm.\n",
      " ( sv )  Jag reserverar mig i två frågor.\n",
      " ( sk )  Je to také jednoduché.\n",
      " ( da )  Siden da har vi formet Letlands mål efter Europas mål.\n",
      " ( ro )  Avem nevoie de un program...\n",
      " ( sv )  Det har fortfarande inte gjorts.\n",
      " ( da )  Their will is the law, not only at home, but as to the concerns of every nation. ... They have swept away the very constitutions under which the Legislatures acted \" (De må være mere end blinde, dem, som ikke kan se, med hvilken usvigelig systematik, i dette tilfælde og i alle tilfælde, de forfølger deres plan for total ødelæggelse af enhver uafhængig magt. ...\n",
      " ( cs )  Jak jsem již uvedl, tento návrh byl již v minulosti schválen politickými skupinami.\n",
      " ( sk )  Týmto končím hodinu otázok.\n",
      " ( cs )  Takový pohled je cynicky a nelidský.\n",
      " ( et )  Eelmise istungi protokolli kinnitamine (vt protokoll)\n",
      " ( lt )  Atminkite, Europa išmeta tik 10 proc. CO2 kiekio.\n",
      " ( cs )  Název je velmi výstižný.\n",
      " ( sv )  Under årens lopp har en tredjedel av befolkningen mist livet.\n",
      " ( sl )  Ali mora biti ali to ni potrebno?\n",
      " ( it )  Relazione Hatzidakis (A5-0076/2000)\n",
      " ( ro )  Prin urmare, ce dorim?\n",
      " ( fi )  Mutta älkäämme aloittako uudelleen Punta Del Esteä.\n",
      " ( es )  Todas juntas son positivas.\n",
      " ( fi )  Arvoisa puhemies, sama pätee minuun.\n",
      " ( cs )  Plán práce: viz zápis\n",
      " ( fi )  Mainitsitte suhteemme komissioon.\n",
      " ( nl )  Van flexibiliteit is dus geen sprake meer.\n",
      " ( fr )  Merci de votre attention.\n",
      " ( da )  Vi skal tale med én stemme.\n",
      " ( da )  Siden 1990 er verdenshandelen vokset eksplosivt.\n",
      " ( cs )  Nesmíme toto hledisko opomíjet.\n",
      " ( pt )  Isso representaria uma economia global.\n",
      " ( da )  Dette er altså en tosidig dynamisk proces.\n",
      " ( et )  Steiermark on kindlasti selle poolt.\n",
      " ( fr )  Quelle est cette identité?\n",
      " ( sv )  Jag skulle vilja ta upp en ordningsfråga med anledning av ert meddelande om att Balfe har anslutit sig till PPE-gruppen.\n",
      " ( en )  A balanced approach is needed here.\n",
      " ( fr )  M. Seppänen en a parlé hier.\n",
      " ( es )  Apelo a la Comisaria para que siga dando forma a este punto principalmente.\n",
      " ( fr )  Le vote aura lieu mercredi à 11h30.\n",
      " ( hu )  Aggodalomra ad okot.\n",
      " ( en )  Joint action is required.\n",
      " ( lv )  Balsojumu skaidrojumi\n",
      " ( de )  Und genau dort - in der historischen Region Těšín, die heute die tschechische Stadt Český Těší und die polnische Stadt Cieszyn einschließt - wurde ein Projekt mit dem Namen \"Ein Garten an beiden Flussufern\" geschaffen, da ein Fluss zwischen den beiden Städten verläuft, die einst eine Stadteinheit bildeten.\n",
      " ( fi )  Jatkamme keskusteluamme.\n",
      " ( sk )  Riešime to však ako prioritu.\n",
      " ( en )  Regarding Amendment No 48\n",
      " ( cs )  Jedna skupina je na jasných pravidlech zvlášť závislá.\n",
      " ( lv )  Balsojumu mutiskie skaidrojumi\n",
      " ( sv )  Vad berodde detta på?\n",
      " ( es )  Ni el Consejo, ni el Presidente en ejercicio del Consejo, pueden dar lecciones al Gobierno sueco.\n",
      " ( cs )  Úlohou Ruska je zefektivnit své postupy na hranicích.\n",
      " ( it )  Vorrei fare alcune domande al Commissario.\n",
      " ( en )  Thank you very much, Mr Pompidou.\n",
      " ( lv )  Temats: ES misijas loma Kosovā\n",
      " ( cs )  Standard, který vyžadovala Rada Evropy, byl pro všechny stejný a závazný.\n",
      " ( en )  Please sit down and wait.\n",
      " ( cs )  To je podle mého názoru škoda.\n",
      " ( lt )  Savaime suprantama kita svarbi sudedamoji šio pranešimo dalis - CO2 mažinimas.\n",
      " ( cs )  Jsou tyto zprávy pravdivé?\n",
      " ( pl )  Regiony te to belgijski region Limburg, holenderski region Limburg i region Aachen.\n",
      " ( cs )  Upozorňuji, že jde o partnera, na jehož dodávkách surovin je Evropa závislá.\n",
      " ( hu )  A mondat nyelvtanilag nem helyes.\n",
      " ( sk )  Udelenie priority v ich vnímaní však v praxi znamená zníženie o 7 %.\n",
      " ( sk )  Jedna Európa, jeden hlas!\n",
      " ( fr )  (Le Parlement rejette la demande)\n",
      " ( de )  Für mich ist dies eine Conditio sine qua non.\n",
      " ( sl )  Prav tako bi rad spregovoril o pripombi Lászla Surjána.\n",
      " ( cs )  Co tedy tato síť obsahuje?\n",
      " ( es )  Sencillamente no es posible.\n",
      " ( pt )  Em segundo lugar, quero perguntar-lhe o seguinte, Senhor Comissário van den Broek: tendo o Acordo de Dayton como pano de fundo, como é que o Senhor pensa reagir às inequívocas restrições à liberdade de imprensa impostas pela República da Sérvia?\n",
      " ( sk )  To sme tu ešte asi nemali.\n",
      " ( cs )  Rusko má zatím daleko k demokracii i k tomu stát se spolehlivým partnerem.\n",
      " ( cs )  Filipíny (hlasování)\n",
      " ( es )  Tengo una o dos preguntas.\n",
      " ( cs )  Jeho postavení by však mohlo být ohroženo, pokud by se jeho konkurenti uchýlili k nekalým obchodním praktikám nebo nedodržovali práva duševního vlastnictví.\n",
      " ( hu )  Ezen kell dolgoznunk.\n",
      " ( cs )  Každý, kdo má zdravý rozum, je pacifista.\n",
      " ( sl )  Nacionalna suverenost.\n",
      " ( cs )  Díky jsem spolu s patnácti společníky nalezla svobodu.\n",
      " ( sk )  Rozprava sa skončila.\n",
      " ( fi )  Kirjalliset kannanotot (142 artikla)\n",
      " ( fi )  Ja siksi kysymyksemme onkin: miksi?\n",
      " ( et )  Ma vastan teie kahtlustele otse.\n",
      " ( fr )  La directive \"habitat\" impose un objectif explicite.\n",
      " ( es )  (HU) Muchas gracias.\n",
      " ( fr )  Question nº 23 de (H-0838/01) :\n",
      " ( pt )  Vários juízes e advogados continuam hoje presos.\n",
      " ( fr )  Je le ferai volontiers.\n",
      " ( ro )  Mobilizarea Fondului european de ajustare la globalizare: H. Cegielski-Poznań, Polonia (\n",
      " ( nl )  Wat is er met SIS II gebeurd?\n",
      " ( es )  La Estrategia UE 2020 debe levantarse sobre dos pilares.\n",
      " ( sk )  To isté platí pre obilniny a mlieko.\n",
      " ( cs )  Za prvé jsem rád, že existuje.\n",
      " ( es )  (El Presidente interrumpe a la oradora)\n",
      " ( da )  En nulsats er et specifikt tal.\n",
      " ( cs )  Tak tento odstavec chápu já.\n",
      " ( cs )  Je to práce pro politiky členských států.\n",
      " ( lt )  P. Berès, mes tęsiame atstovavimo darbą.\n",
      " ( sk )  To boli pravdepodobne fakty.\n",
      " ( sl )  Gospa Breyer ima besedo.\n",
      " ( cs )  Byla velmi vyčerpávající.\n",
      " ( lv )  Pateicos jums visiem.\n",
      " ( lt )  Suprantame, kad iškils problemų.\n",
      " ( es )  Consideramos que resulta totalmente inaceptable.\n",
      " ( fr )  Naufrage du cargo New Flame (vote)\n",
      " ( en )  Please give me an answer.\n",
      " ( da )  Durão Barroso, har gjort for, at hr. Bush modtager Europa-Parlamentets formand, dvs.\n",
      " ( sl )  Peticije: glej zapisnik\n",
      " ( sk )  Po ukončení hlasovania:\n",
      " ( ro )  Cauza este una nobilă.\n",
      " ( es )  No debemos perderlo de vista, porque de otro modo nunca tendremos una paz duradera.\n",
      " ( da )  Vi har Den Internationale Kontaktgruppe.\n"
     ]
    }
   ],
   "source": [
    "for pred, lab, text in errors:\n",
    "    print(\" (\", lab, \") \", text)"
   ]
  },
  {
   "cell_type": "code",
   "execution_count": 57,
   "metadata": {},
   "outputs": [
    {
     "data": {
      "text/plain": [
       "'./text/en'"
      ]
     },
     "execution_count": 57,
     "metadata": {},
     "output_type": "execute_result"
    }
   ],
   "source": [
    "p = m.predict(\"All feelings that concentrate you and lift you up \" \n",
    "              \"are pure; only that feeling is impure which grasps \"\n",
    "              \"just one side of your being and thus distorts you. \"\n",
    "                                            \"- rainer maria rilke\")\n",
    "m.data.languages[np.argmax(p)]"
   ]
  },
  {
   "cell_type": "code",
   "execution_count": null,
   "metadata": {},
   "outputs": [],
   "source": []
  }
 ],
 "metadata": {
  "kernelspec": {
   "display_name": "Python 3",
   "language": "python",
   "name": "python3"
  },
  "language_info": {
   "codemirror_mode": {
    "name": "ipython",
    "version": 3
   },
   "file_extension": ".py",
   "mimetype": "text/x-python",
   "name": "python",
   "nbconvert_exporter": "python",
   "pygments_lexer": "ipython3",
   "version": "3.6.1"
  }
 },
 "nbformat": 4,
 "nbformat_minor": 2
}
