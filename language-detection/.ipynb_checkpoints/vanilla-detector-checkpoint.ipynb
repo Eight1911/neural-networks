{
 "cells": [
  {
   "cell_type": "markdown",
   "metadata": {},
   "source": [
    "# Poom C's Char-LSTM Langauge Detector\n",
    "---"
   ]
  },
  {
   "cell_type": "code",
   "execution_count": 527,
   "metadata": {},
   "outputs": [],
   "source": [
    "import re\n",
    "import os\n",
    "import random\n",
    "import numpy as np\n",
    "import numpy.random as rd\n",
    "import tensorflow as tf\n",
    "\n",
    "import matplotlib\n",
    "import matplotlib.pyplot as plt\n",
    "% matplotlib inline"
   ]
  },
  {
   "cell_type": "code",
   "execution_count": 528,
   "metadata": {},
   "outputs": [],
   "source": [
    "def onehot(index, length):\n",
    "    \"\"\"\n",
    "    takes\n",
    "        two integers\n",
    "    returns\n",
    "        a onehot vector of length 'length'\n",
    "        with one at index 'index'\n",
    "    \"\"\"\n",
    "    vector = np.zeros(length)\n",
    "    vector[index] = 1.0\n",
    "    return vector\n",
    "\n",
    "def reader(directory):\n",
    "    \"\"\"\n",
    "    Takes \n",
    "        - directory : string\n",
    "            the directory path of all the text files\n",
    "    Returns \n",
    "        - dict[string -> list[string]]\n",
    "            a dictionary whose keys are the languages (folder-name)\n",
    "            and values are list of strings in the files in the folder\n",
    "    \"\"\"\n",
    "    def parse(base_name, files):\n",
    "        print(\"parsing files in\", base_name)\n",
    "        pattern = re.compile('<[^>]*>')\n",
    "        strings = []\n",
    "        for name in files:\n",
    "            with open(base_name + \"/\"+ name, errors='replace') as f:\n",
    "                strings.append(re.sub(pattern, '', f.read().strip()))\n",
    "        return strings\n",
    "\n",
    "    def main(directory):\n",
    "        scanner = os.walk(directory)\n",
    "        _, folders, _ = next(scanner)\n",
    "        return {name: parse(name, files)\n",
    "                for name, _, files in scanner}\n",
    "    \n",
    "    return main(directory)"
   ]
  },
  {
   "cell_type": "markdown",
   "metadata": {},
   "source": [
    "Then we parse the files. This will take sometime. Go get coffee or something."
   ]
  },
  {
   "cell_type": "code",
   "execution_count": 3,
   "metadata": {
    "scrolled": true
   },
   "outputs": [
    {
     "name": "stdout",
     "output_type": "stream",
     "text": [
      "parsing files in ./text/bg\n",
      "parsing files in ./text/cs\n",
      "parsing files in ./text/da\n",
      "parsing files in ./text/de\n",
      "parsing files in ./text/el\n",
      "parsing files in ./text/en\n",
      "parsing files in ./text/es\n",
      "parsing files in ./text/et\n",
      "parsing files in ./text/fi\n",
      "parsing files in ./text/fr\n",
      "parsing files in ./text/hu\n",
      "parsing files in ./text/it\n",
      "parsing files in ./text/lt\n",
      "parsing files in ./text/lv\n",
      "parsing files in ./text/nl\n",
      "parsing files in ./text/pl\n",
      "parsing files in ./text/pt\n",
      "parsing files in ./text/ro\n",
      "parsing files in ./text/sk\n",
      "parsing files in ./text/sl\n",
      "parsing files in ./text/sv\n"
     ]
    }
   ],
   "source": [
    "strings = reader(\"./text\")\n",
    "joined = { lang: \" | \".join(strings[lang])\n",
    "            for lang in strings }\n",
    "charset = { lang: set(joined[lang]) for lang in joined }\n",
    "languages = sorted(charset)"
   ]
  },
  {
   "cell_type": "code",
   "execution_count": 529,
   "metadata": {},
   "outputs": [],
   "source": [
    "def stream(joined, window_size, char_to_ind, error_rate=0.01):\n",
    "    error_ind = char_to_ind[\"error\"]\n",
    "    languages = sorted(joined)\n",
    "    \n",
    "    def next_point():\n",
    "        index = random.randrange(len(languages))\n",
    "        string = joined[languages[index]]\n",
    "        start = random.randrange(0, len(string) - window_size)\n",
    "        substring = string[start:start+window_size]\n",
    "        if random.random() > 0.9:\n",
    "            substring = substring.lower()\n",
    "        if random.random() < 0.05:\n",
    "            substring = substring.upper()\n",
    "        \n",
    "        labels = [index] * window_size\n",
    "        inputs = np.array([char_to_ind[c] for c in substring])\n",
    "        if error_rate > 0:\n",
    "            error = rd.binomial(1, error_rate, len(substring))\n",
    "            inputs[error] = error_ind\n",
    "\n",
    "        return labels, inputs\n",
    "\n",
    "    def iterate(batch_size):\n",
    "        while True:\n",
    "            data = [next_point() for _ in range(batch_size)]\n",
    "            labels, inputs = zip(*data)\n",
    "            yield np.array(labels), np.array(inputs)\n",
    "\n",
    "    return iterate"
   ]
  },
  {
   "cell_type": "code",
   "execution_count": 530,
   "metadata": {},
   "outputs": [
    {
     "name": "stdout",
     "output_type": "stream",
     "text": [
      "497 unique characters\n"
     ]
    }
   ],
   "source": [
    "unique_char = set([\"error\"])\n",
    "for lang in charset:\n",
    "    unique_char.update(charset[lang])\n",
    "\n",
    "unique_char = sorted(unique_char)\n",
    "num_unique_chars = len(unique_char)\n",
    "char_to_ind = { c : i for i, c in enumerate(unique_char) }\n",
    "char_to_vec = { c : onehot(i, len(unique_char)) \n",
    "                 for i, c in enumerate(unique_char)}\n",
    "print(num_unique_chars, \"unique characters\")"
   ]
  },
  {
   "cell_type": "markdown",
   "metadata": {},
   "source": [
    "We use a standard Char-LSTM classifier for this problem. That is, we embed characters into $\\mathbb{R}^n$, feed the sequence of embedded points into the RNN and have each output be measured against the one-hot language vector using KL divergence. \n",
    "\n",
    "We also use dropout in the input layer to improve generalizability and add a 1% random error in the input."
   ]
  },
  {
   "cell_type": "code",
   "execution_count": 531,
   "metadata": {},
   "outputs": [],
   "source": [
    "rnn_size = 40\n",
    "num_layers = 2\n",
    "batch_size = 30\n",
    "window_size = 130\n",
    "output_size = 21\n",
    "\n",
    "tf.reset_default_graph()"
   ]
  },
  {
   "cell_type": "code",
   "execution_count": 532,
   "metadata": {},
   "outputs": [],
   "source": [
    "char_ids = tf.placeholder(tf.int64, [batch_size, window_size])\n",
    "labels   = tf.placeholder(tf.int64, [batch_size, window_size])\n",
    "pkeep    = tf.placeholder(tf.float64)"
   ]
  },
  {
   "cell_type": "code",
   "execution_count": 533,
   "metadata": {},
   "outputs": [],
   "source": [
    "weights = np.arange(1, 0.5, window_size)"
   ]
  },
  {
   "cell_type": "code",
   "execution_count": 534,
   "metadata": {},
   "outputs": [],
   "source": [
    "# xavier initialization\n",
    "embedding = rd.randn(num_unique_chars, rnn_size)\n",
    "embedding = tf.Variable(embedding / np.sqrt(rnn_size + rnn_size))\n",
    "inp = tf.nn.embedding_lookup(embedding, char_ids)\n",
    "\n",
    "# xavier initialization\n",
    "noise_prob = tf.Variable(np.eye(output_size))\n",
    "decoder = rd.randn(rnn_size, output_size)\n",
    "decoder = tf.Variable(decoder / np.sqrt(rnn_size + output_size))\n",
    "bias    = tf.zeros(output_size, tf.float64)"
   ]
  },
  {
   "cell_type": "code",
   "execution_count": 535,
   "metadata": {},
   "outputs": [],
   "source": [
    "lstm_cell = lambda size: (\n",
    "    tf.nn.rnn_cell.DropoutWrapper\n",
    "   (tf.nn.rnn_cell.LSTMCell(size), pkeep))\n",
    "# lstm_cell = tf.nn.rnn_cell.LSTMCell\n",
    "cells = [lstm_cell(rnn_size) for _ in range(num_layers)]\n",
    "lstm = tf.nn.rnn_cell.MultiRNNCell(cells)"
   ]
  },
  {
   "cell_type": "code",
   "execution_count": 536,
   "metadata": {},
   "outputs": [],
   "source": [
    "state = lstm.zero_state(batch_size, tf.float64)\n",
    "outputs = []\n",
    "for i in range(window_size):\n",
    "    output, state = lstm(inp[:,i,:], state)\n",
    "    outputs.append(output)\n",
    "\n",
    "outputs = tf.stack(outputs, axis=1)\n",
    "outputs = tf.tensordot(outputs, decoder, [[2], [0]]) + bias"
   ]
  },
  {
   "cell_type": "code",
   "execution_count": null,
   "metadata": {},
   "outputs": [],
   "source": [
    "len_index = 100\n",
    "prediction = tf.argmax(outputs[:, len_index], axis=1),\n",
    "accuracy = tf.reduce_sum(tf.cast(tf.equal(prediction, labels[:, len_index]), tf.int64))"
   ]
  },
  {
   "cell_type": "markdown",
   "metadata": {},
   "source": [
    "the next cell will take some time. please go get another cup of coffee."
   ]
  },
  {
   "cell_type": "code",
   "execution_count": null,
   "metadata": {},
   "outputs": [],
   "source": [
    "longname = tf.nn.sparse_softmax_cross_entropy_with_logits # lol\n",
    "loss_matrix = longname(logits=outputs, labels=labels)\n",
    "total_loss = tf.reduce_mean(weights * loss_matrix)\n",
    "\n",
    "optimizer = tf.train.AdamOptimizer(1e-4)\n",
    "minimizer = optimizer.minimize(total_loss)"
   ]
  },
  {
   "cell_type": "code",
   "execution_count": null,
   "metadata": {},
   "outputs": [],
   "source": [
    "sess = tf.Session()\n",
    "sess.run(tf.global_variables_initializer())"
   ]
  },
  {
   "cell_type": "markdown",
   "metadata": {},
   "source": [
    "since we are training, this cell will also take very long, go get two more cups of coffee."
   ]
  },
  {
   "cell_type": "code",
   "execution_count": null,
   "metadata": {
    "scrolled": true
   },
   "outputs": [],
   "source": [
    "cumulative = 0.35\n",
    "datastream = stream(joined, window_size, char_to_ind)(batch_size)\n",
    "for i in range(500000):\n",
    "    y, x = next(datastream)\n",
    "    acc, _ = sess.run([accuracy, minimizer], feed_dict = { char_ids:x, labels:y, pkeep:0.5 })\n",
    "    cumulative *= 0.99\n",
    "    cumulative += 0.01 * acc / batch_size\n",
    "    if i % 200 == 0:\n",
    "        print(\"iteration\", i, \"with decaying accuracy\", cumulative)"
   ]
  },
  {
   "cell_type": "code",
   "execution_count": 391,
   "metadata": {},
   "outputs": [],
   "source": [
    "prediction = tf.argmax(outputs, axis=2),\n",
    "accuracy = tf.reduce_sum(tf.cast(tf.equal(prediction, labels), tf.int64), axis=1)"
   ]
  },
  {
   "cell_type": "markdown",
   "metadata": {},
   "source": [
    "70,000 iterations with a batch size of 13 and a window size of 130 is actually only less than 1% of all the characters in the dataset. Therefore, its probably to ok to test internal accuracy using the same data set. We will use another data set to test generalizability."
   ]
  },
  {
   "cell_type": "code",
   "execution_count": 514,
   "metadata": {},
   "outputs": [
    {
     "ename": "IndexError",
     "evalue": "invalid index to scalar variable.",
     "output_type": "error",
     "traceback": [
      "\u001b[0;31m---------------------------------------------------------------------------\u001b[0m",
      "\u001b[0;31mIndexError\u001b[0m                                Traceback (most recent call last)",
      "\u001b[0;32m<ipython-input-514-de43c87c11ab>\u001b[0m in \u001b[0;36m<module>\u001b[0;34m()\u001b[0m\n\u001b[1;32m      4\u001b[0m     \u001b[0my\u001b[0m\u001b[0;34m,\u001b[0m \u001b[0mx\u001b[0m \u001b[0;34m=\u001b[0m \u001b[0mnext\u001b[0m\u001b[0;34m(\u001b[0m\u001b[0mdatastream\u001b[0m\u001b[0;34m)\u001b[0m\u001b[0;34m\u001b[0m\u001b[0m\n\u001b[1;32m      5\u001b[0m     \u001b[0;34m[\u001b[0m\u001b[0macc\u001b[0m\u001b[0;34m]\u001b[0m \u001b[0;34m=\u001b[0m \u001b[0msess\u001b[0m\u001b[0;34m.\u001b[0m\u001b[0mrun\u001b[0m\u001b[0;34m(\u001b[0m\u001b[0;34m[\u001b[0m\u001b[0maccuracy\u001b[0m\u001b[0;34m]\u001b[0m\u001b[0;34m,\u001b[0m \u001b[0mfeed_dict\u001b[0m \u001b[0;34m=\u001b[0m \u001b[0;34m{\u001b[0m \u001b[0mchar_ids\u001b[0m\u001b[0;34m:\u001b[0m\u001b[0mx\u001b[0m\u001b[0;34m,\u001b[0m \u001b[0mlabels\u001b[0m\u001b[0;34m:\u001b[0m \u001b[0my\u001b[0m\u001b[0;34m,\u001b[0m \u001b[0mpkeep\u001b[0m\u001b[0;34m:\u001b[0m\u001b[0;36m1.0\u001b[0m \u001b[0;34m}\u001b[0m\u001b[0;34m)\u001b[0m\u001b[0;34m\u001b[0m\u001b[0m\n\u001b[0;32m----> 6\u001b[0;31m     \u001b[0mcum_acc\u001b[0m \u001b[0;34m+=\u001b[0m \u001b[0macc\u001b[0m\u001b[0;34m[\u001b[0m\u001b[0;34m-\u001b[0m\u001b[0;36m1\u001b[0m\u001b[0;34m]\u001b[0m \u001b[0;34m/\u001b[0m \u001b[0mbatch_size\u001b[0m\u001b[0;34m\u001b[0m\u001b[0m\n\u001b[0m\u001b[1;32m      7\u001b[0m     \u001b[0;32mif\u001b[0m \u001b[0mi\u001b[0m \u001b[0;34m%\u001b[0m \u001b[0;36m200\u001b[0m \u001b[0;34m==\u001b[0m \u001b[0;36m0\u001b[0m\u001b[0;34m:\u001b[0m\u001b[0;34m\u001b[0m\u001b[0m\n\u001b[1;32m      8\u001b[0m         \u001b[0mprint\u001b[0m\u001b[0;34m(\u001b[0m\u001b[0;34m\"iteration\"\u001b[0m\u001b[0;34m,\u001b[0m \u001b[0mi\u001b[0m\u001b[0;34m,\u001b[0m \u001b[0;34m\"with total accuracy\"\u001b[0m\u001b[0;34m,\u001b[0m \u001b[0mcum_acc\u001b[0m \u001b[0;34m/\u001b[0m \u001b[0;34m(\u001b[0m\u001b[0mi\u001b[0m \u001b[0;34m+\u001b[0m \u001b[0;36m1\u001b[0m\u001b[0;34m)\u001b[0m\u001b[0;34m)\u001b[0m\u001b[0;34m\u001b[0m\u001b[0m\n",
      "\u001b[0;31mIndexError\u001b[0m: invalid index to scalar variable."
     ]
    }
   ],
   "source": [
    "datastream = stream(joined, window_size, char_to_ind, error_rate=0.0)(batch_size)\n",
    "cum_acc = 0\n",
    "for i in range(3000):\n",
    "    y, x = next(datastream)\n",
    "    [acc] = sess.run([accuracy], feed_dict = { char_ids:x, labels: y, pkeep:1.0 })\n",
    "    cum_acc += acc[-1] / batch_size\n",
    "    if i % 200 == 0:\n",
    "        print(\"iteration\", i, \"with total accuracy\", cum_acc / (i + 1))"
   ]
  },
  {
   "cell_type": "markdown",
   "metadata": {},
   "source": [
    "below is the plot of the accuracy of the predictor. \n",
    "the x-axis is the length and the y axis is the accuracy"
   ]
  },
  {
   "cell_type": "code",
   "execution_count": 466,
   "metadata": {},
   "outputs": [
    {
     "data": {
      "image/png": "[encoded data removed]",
      "text/plain": [
       "<matplotlib.figure.Figure at 0x4c2a4e080>"
      ]
     },
     "metadata": {},
     "output_type": "display_data"
    }
   ],
   "source": [
    "plt.plot([0, 130], [1, 1])\n",
    "plt.plot(cum_acc / 3000)\n",
    "plt.xlabel(\"sentence length\")\n",
    "plt.ylabel(\"prediction accuracy\")\n",
    "plt.show()"
   ]
  },
  {
   "cell_type": "code",
   "execution_count": 491,
   "metadata": {},
   "outputs": [],
   "source": [
    "def predict(sentence):\n",
    "    sentence = sentence.strip()\n",
    "    if len(sentence) > window_size - 3:\n",
    "        raise ValueError\n",
    "    \n",
    "    new_s = \"| \" + sentence + \" \" * (window_size - len(sentence) - 1)\n",
    "    inputs = [char_to_ind[i] \n",
    "                if i in char_to_ind \n",
    "                else char_to_ind[\"error\"]\n",
    "                for i in new_s]\n",
    "    outvec = sess.run(outputs, feed_dict = { \n",
    "        char_ids: [inputs] * batch_size,\n",
    "        labels: [inputs] * batch_size,\n",
    "        pkeep: 1.0\n",
    "    })\n",
    "    outvec = -outvec[0, len(sentence) - 1]\n",
    "    # print(np.exp(outvec) / np.exp(outvec).sum())\n",
    "    return [languages[i] for i in np.argsort(outvec)]"
   ]
  },
  {
   "cell_type": "code",
   "execution_count": 492,
   "metadata": {},
   "outputs": [
    {
     "data": {
      "text/plain": [
       "['./text/lt',\n",
       " './text/fi',\n",
       " './text/et',\n",
       " './text/sk',\n",
       " './text/lv',\n",
       " './text/pl',\n",
       " './text/cs',\n",
       " './text/en',\n",
       " './text/pt',\n",
       " './text/es',\n",
       " './text/hu',\n",
       " './text/fr',\n",
       " './text/sl',\n",
       " './text/sv',\n",
       " './text/da',\n",
       " './text/nl',\n",
       " './text/it',\n",
       " './text/ro',\n",
       " './text/de',\n",
       " './text/el',\n",
       " './text/bg']"
      ]
     },
     "execution_count": 492,
     "metadata": {},
     "output_type": "execute_result"
    }
   ],
   "source": [
    "predict(\"Myliu tave visada\")"
   ]
  },
  {
   "cell_type": "code",
   "execution_count": 493,
   "metadata": {},
   "outputs": [],
   "source": [
    "import csv\n",
    "with open(\"./europarl.test\", \"r\") as f:\n",
    "    reader = csv.reader(f, delimiter=\"\\t\")\n",
    "    reader = [*reader]"
   ]
  },
  {
   "cell_type": "code",
   "execution_count": 502,
   "metadata": {},
   "outputs": [
    {
     "name": "stdout",
     "output_type": "stream",
     "text": [
      "1.0\n",
      "error ('en', 'nl', 'Op dit punt faalt Stockholm.')\n",
      "error ('sk', 'cs', 'Každý, kdo má zdravý rozum, je pacifista.')\n",
      "error ('sk', 'cs', 'Rusko má zatím daleko k demokracii i k tomu stát se spolehlivým partnerem.')\n",
      "error ('ro', 'fr', 'Je souhaite citer deux exemples concrets.')\n",
      "0.996003996003996\n",
      "error ('es', 'pt', 'Assunto: Abortos tardios praticados na clínica Ginemedex de Barcelona')\n",
      "error ('nl', 'et', 'Sellegipoolest on strateegiline dilemma selge.')\n",
      "error ('cs', 'sk', 'Udelenie priority v ich vnímaní však v praxi znamená zníženie o 7 %.')\n",
      "error ('ro', 'it', 'Non siate degli \"antieuropei”.')\n",
      "0.9960019990004998\n",
      "error ('pt', 'es', 'Tengo una o dos preguntas.')\n",
      "error ('it', 'sl', 'Nacionalna suverenost.')\n",
      "error ('pt', 'sl', 'Gospa Breyer ima besedo.')\n",
      "error ('es', 'it', 'Il programma Socrates ha avuto molto successo.')\n",
      "error ('nl', 'et', 'Ma arvan, et nad ei tee midagi sellist.')\n",
      "error ('cs', 'sk', 'Je iba spoločná mena.')\n",
      "error ('pl', 'ro', 'Mobilizarea Fondului european de ajustare la globalizare: H. Cegielski-Poznań, Polonia (')\n",
      "error ('lt', 'et', 'Tšehhi vabariigis kehtib praegu Beneši dekreet ja nii allkirjastab Lissaboni leppe Václav Klaus.')\n",
      "0.9946684438520493\n",
      "error ('pt', 'lv', 'Es runāju par Banco Português de Negócios un Banco Privado Português.')\n",
      "error ('de', 'nl', 'Water is echter niet gratis.')\n",
      "error ('sl', 'et', 'Eelmise istungi protokolli kinnitamine (vt protokoll)')\n",
      "error ('da', 'sv', 'Vad ska egentligen stå på dagordningen?')\n",
      "error ('sv', 'fr', 'M. Seppänen en a parlé hier.')\n",
      "error ('sk', 'cs', 'Je také nezbytné rozvinout výzkum v rámci 7. rámcového programu.')\n",
      "0.9945013746563359\n",
      "error ('sk', 'cs', 'Za prvé jsem rád, že existuje.')\n",
      "error ('pt', 'es', 'Es responsabilidad nuestra evitar esto.')\n",
      "error ('fi', 'et', 'Just siin on see koht!')\n",
      "0.99500099980004\n",
      "error ('lt', 'pl', 'Następujące pytania skierowane są do Komisji.')\n",
      "error ('en', 'da', 'Their will is the law, not only at home, but as to the concerns of every nation. ... They have swept away the very constitutions under which the Legislatures acted \" (De må være mere end blinde, dem, som ikke kan se, med hvilken usvigelig systematik, i dette tilfælde og i alle tilfælde, de forfølger deres plan for total ødelæggelse af enhver uafhængig magt. ...')\n",
      "error ('cs', 'sk', 'Niektorí z vás spomenuli prípad Laval.')\n",
      "error ('sl', 'sk', 'To sme tu ešte asi nemali.')\n",
      "0.9951674720879853\n",
      "error ('sv', 'fi', 'Kirjalliset kannanotot (142 artikla)')\n",
      "error ('da', 'sv', 'skriftlig. - (SK) Nivån på konsumentskyddet skiljer sig åt mellan medlemsstaterna.')\n",
      "error ('de', 'nl', 'Wat er is gebeurd, is heel ernstig.')\n",
      "error ('sk', 'cs', 'Tak tento odstavec chápu já.')\n",
      "error ('en', 'pl', 'Regiony te to belgijski region Limburg, holenderski region Limburg i region Aachen.')\n",
      "error ('lt', 'lv', 'Kādēļ es uzsveru ,,austrumu” dimensija, ,,austrumu valstis”?')\n",
      "error ('sk', 'cs', 'Synergie je dobrá myšlenka, je to dobré shrnutí propojení politických aktivit EU, politických aktivit Komise, avšak v zájmu lepší strukturovanosti jsme já a pan Swoboda navrhli, aby jí byl vdechnut parlamentní rozměr s konzultacemi ministrů na úrovni černomořské oblasti.')\n",
      "error ('cs', 'sk', 'Teší ma, že toto bolo v správe tiež schválené.')\n",
      "0.9947150407084702\n",
      "error ('pl', 'lv', 'Apsveicu, Pagano kundze.')\n",
      "error ('hu', 'sk', 'Jedna Európa, jeden hlas!')\n",
      "error ('sk', 'cs', 'Nesmíme se však omezovat na pozorovatelské mise.')\n",
      "error ('cs', 'sk', 'Je to také jednoduché.')\n",
      "error ('hu', 'sk', 'Svätá prostota v Európskom parlamente!')\n",
      "error ('nl', 'en', 'Please give me an answer.')\n",
      "error ('de', 'nl', 'Wat is er met SIS II gebeurd?')\n",
      "error ('sk', 'pt', 'Vários juízes e advogados continuam hoje presos.')\n",
      "error ('da', 'sv', 'Under årens lopp har en tredjedel av befolkningen mist livet.')\n",
      "error ('ro', 'fr', 'Demain, une chaîne humaine de Juifs et de Palestiniens se formera autour du bâtiment du Berlaymont pour dire tous ensemble: \"Après 40 ans, nous en avons vraiment assez.')\n",
      "error ('es', 'cs', 'Naprosto souhlasím s panem Maatenem.')\n",
      "error ('ro', 'fr', 'La directive \"habitat\" impose un objectif explicite.')\n",
      "0.9938757655293088\n",
      "error ('de', 'en', 'Please sit down and wait.')\n",
      "error ('de', 'en', 'Regarding Amendment No 48')\n",
      "error ('sk', 'cs', 'Za čtrnáct let od roku 1996 trh s hazardními hrami dramaticky vzrostl.')\n",
      "error ('da', 'sv', 'Så det finns, enligt min åsikt, ett mycket tydligt samband.')\n",
      "error ('es', 'pt', 'Em segundo lugar, quero perguntar-lhe o seguinte, Senhor Comissário van den Broek: tendo o Acordo de Dayton como pano de fundo, como é que o Senhor pensa reagir às inequívocas restrições à liberdade de imprensa impostas pela República da Sérvia?')\n",
      "error ('sk', 'cs', 'Název je velmi výstižný.')\n",
      "0.9938895678257972\n",
      "error ('da', 'sv', 'Det har fortfarande inte gjorts.')\n",
      "error ('sk', 'cs', 'Jeho postavení by však mohlo být ohroženo, pokud by se jeho konkurenti uchýlili k nekalým obchodním praktikám nebo nedodržovali práva duševního vlastnictví.')\n",
      "error ('ro', 'pt', \"De facto, a Europa devia ser uma 'Energilândia? (terra da energia).\")\n",
      "error ('cs', 'de', 'Und genau dort - in der historischen Region Těšín, die heute die tschechische Stadt Český Těší und die polnische Stadt Cieszyn einschließt - wurde ein Projekt mit dem Namen \"Ein Garten an beiden Flussufern\" geschaffen, da ein Fluss zwischen den beiden Städten verläuft, die einst eine Stadteinheit bildeten.')\n",
      "error ('ro', 'it', 'Vorrei fare alcune domande al Commissario.')\n",
      "0.994000599940006\n",
      "error ('hu', 'pt', 'Relatório Thyssen (A4-0137/99)')\n",
      "error ('es', 'pt', 'Gostaria de lhe dizer com toda a firmeza, assim como a todos os nossos colegas, que o relatório do senhor deputado Torres Couto é um relatório importante, que debatemos muito e alterámos muito, mas que estamos orgulhosos de propor este trabalho à nossa assembleia plenária.')\n",
      "error ('es', 'pt', 'Por último, gostaria de agradecer à senhora deputada Corbey e ao senhor deputado Lange os seus esclarecimentos, bem como ao senhor deputado Davies por finalmente ter mudado de opinião e concordado connosco.')\n",
      "error ('fi', 'et', 'Steiermark on kindlasti selle poolt.')\n",
      "0.9941823470593583\n",
      "error ('en', 'cs', 'Jmenovali se William Meyer, Bernard Starie, Reginald Pike, Thomas Shaw, James McLeish, Archibald Barrowman a Albert Roberts a všichni budou v sobotu vyznamenáni.')\n",
      "error ('sk', 'cs', 'Co tedy tato síť obsahuje?')\n",
      "error ('es', 'pt', 'Isso representaria uma economia global.')\n",
      "error ('lt', 'lv', 'Balsojumu skaidrojumi')\n",
      "error ('sk', 'cs', 'Jedna skupina je na jasných pravidlech zvlášť závislá.')\n",
      "0.9942504791267395\n",
      "error ('da', 'de', 'Danke, Herr Macartney!')\n",
      "error ('lt', 'es', 'Todas juntas son positivas.')\n",
      "error ('it', 'ro', 'Votul va avea loc azi la ora 12.')\n",
      "error ('sv', 'et', '(Istung algas kell 9.00)')\n",
      "error ('nl', 'et', 'Meie eelarve on 1,5 miljardit eurot.')\n",
      "error ('lv', 'it', 'Relazione Hatzidakis (A5-0076/2000)')\n",
      "error ('lt', 'lv', 'Balsojumu mutiskie skaidrojumi')\n",
      "error ('lt', 'lv', 'Pateicos jums visiem.')\n",
      "0.9940773786631798\n",
      "error ('ro', 'fr', 'Je terminerai cependant sur un appel.')\n",
      "error ('es', 'pt', 'Mas se me permite, Senhor Presidente, gostaria de lhe colocar uma pergunta.')\n",
      "error ('pt', 'es', 'No debemos perderlo de vista, porque de otro modo nunca tendremos una paz duradera.')\n",
      "error ('sv', 'hu', 'A mondat nyelvtanilag nem helyes.')\n",
      "error ('hu', 'pt', 'Relatório Pollack (A4-0161/98)')\n",
      "error ('cs', 'sk', 'Myslím, že to je novinka.')\n",
      "error ('sk', 'cs', 'Standard, který vyžadovala Rada Evropy, byl pro všechny stejný a závazný.')\n",
      "0.9940004285408185\n",
      "error ('sv', 'hu', 'Aggodalomra ad okot.')\n",
      "error ('it', 'sl', 'Tega tu ne smemo dopustiti.')\n",
      "error ('en', 'fr', 'Naufrage du cargo New Flame (vote)')\n",
      "error ('es', 'pt', 'Tony Blair esqueceu-se de nomear alguém para Ministro da Mulher, depois reconduziu Harriet Harman no cargo nomeando-a igualmente Ministro da Segurança Social, e, por último, exonerou-a pelo facto de ela ter tido de executar algumas decisões impopulares.')\n",
      "error ('cs', 'sk', 'Hlasovanie sa uskutoční v stredu.')\n",
      "error ('sl', 'sk', 'Rozprava sa skončila.')\n",
      "0.9940003999733351\n",
      "error ('hu', 'cs', '(Parlament žádost schválil)')\n",
      "error ('sk', 'cs', 'Upozorňuji, že jde o partnera, na jehož dodávkách surovin je Evropa závislá.')\n"
     ]
    },
    {
     "name": "stdout",
     "output_type": "stream",
     "text": [
      "error ('sk', 'cs', 'Avšak doba, kdy to bylo rozhodnuto uskutečnit, je velmi obtížná.')\n",
      "error ('es', 'cs', 'Hlasoval jsem tedy pro toto usnesení.')\n",
      "error ('da', 'sv', 'Jag tackar er så mycket, fru Sellier.')\n",
      "error ('it', 'sl', 'Ali mora biti ali to ni potrebno?')\n",
      "0.994000374976564\n",
      "error ('de', 'pl', 'Na jakich warunkach?')\n",
      "error ('sv', 'et', 'Ma usun, et raport väljendab samuti väga selgelt seda nägemust.')\n",
      "error ('sk', 'cs', 'Úlohou Ruska je zefektivnit své postupy na hranicích.')\n",
      "error ('sk', 'cs', 'Plán práce: viz zápis')\n",
      "error ('sk', 'cs', 'Takový pohled je cynicky a nelidský.')\n",
      "0.9940591729898242\n",
      "error ('nl', 'en', 'A balanced approach is needed here.')\n",
      "error ('ro', 'et', 'Stabiliseerimine finantsturgudel.')\n",
      "error ('sk', 'cs', 'To je podle mého názoru škoda.')\n",
      "error ('sk', 'cs', 'Díky jsem spolu s patnácti společníky nalezla svobodu.')\n",
      "error ('sk', 'sl', 'Prav tako bi rad spregovoril o pripombi Lászla Surjána.')\n",
      "0.9941114382534304\n",
      "error ('da', 'sv', 'Det har nyss påpekats hur det kommer sig.')\n",
      "error ('nl', 'da', 'Siden 1990 er verdenshandelen vokset eksplosivt.')\n",
      "error ('cs', 'sk', 'Vláda sa teraz o tento konflikt zaujíma.')\n",
      "error ('sk', 'cs', 'Jak jsem již uvedl, tento návrh byl již v minulosti schválen politickými skupinami.')\n",
      "error ('pt', 'es', 'Consideramos que resulta totalmente inaceptable.')\n",
      "error ('nl', 'pl', 'Obecnie tekst brzmi:')\n",
      "error ('es', 'pt', 'No entanto, estamos satisfeitos por este programa ter saído tal como queríamos.')\n",
      "error ('de', 'nl', 'Van flexibiliteit is dus geen sprake meer.')\n",
      "error ('sl', 'sk', 'Riešime to však ako prioritu.')\n",
      "error ('da', 'sv', 'Jag reserverar mig i två frågor.')\n",
      "0.9938950581548339\n",
      "error ('en', 'pt', \"Na faixa central da Escócia há dois importantes jornais do tipo 'broadsheet?, The Herald e The Scotsman.\")\n",
      "error ('de', 'nl', 'Na al die jaren ben ik toch optimistisch gebleven.')\n",
      "error ('nl', 'ro', 'Votul va avea loc miercuri, 25 martie 2009.')\n",
      "error ('hu', 'cs', 'Ochrana poslanecké imunity: viz zápis')\n",
      "error ('da', 'sv', 'Nu på eftermiddagen drack jag en lågkaloridryck.')\n",
      "error ('sk', 'cs', 'Tím myslím, že když jakákoli osoba, společnost nebo banka chce investovat peníze v daňovém ráji, musí daňový ráj deklarovat zemi původu peníze, které byly investovány.')\n",
      "error ('cs', 'sk', 'Po ukončení hlasovania:')\n",
      "error ('es', 'pt', 'Senhoras e Senhores Deputados, pouco mais tenho para lhes dizer neste momento.')\n",
      "0.9938003099845008\n",
      "error ('sk', 'cs', 'Složení Parlamentu: viz zápis')\n",
      "error ('da', 'sv', 'Reformationen kom i gång, eftersom de inte lyckades med det.')\n",
      "error ('de', 'nl', 'Dit instrument is in dit opzicht dus volledig tekortgeschoten.')\n",
      "error ('nl', 'et', 'Selline see leping ongi.')\n",
      "error ('sk', 'cs', 'Nesmíme toto hledisko opomíjet.')\n",
      "error ('de', 'nl', 'Alleen zo kunnen we wellicht veranderingen bewerkstelligen.')\n",
      "error ('nl', 'ro', 'Avem nevoie de un program...')\n",
      "error ('sk', 'da', 'Vi skal tale med én stemme.')\n",
      "error ('sv', 'et', 'Ma kuulasin, mis president Barrosol öelda oli.')\n",
      "0.993614365277511\n"
     ]
    }
   ],
   "source": [
    "count = len(reader)\n",
    "correct = 0\n",
    "errors = []\n",
    "random.shuffle(reader)\n",
    "for i, (lab, text) in enumerate(reader):\n",
    "    p = predict(text[:128])[0]\n",
    "    correct += lab == p[-2:]\n",
    "    if lab != p[-2:]:\n",
    "        print(\"error\", (p[-2:], lab, text))\n",
    "        errors.append((lab, text))\n",
    "    \n",
    "    if i % 1000 == 0:\n",
    "        print(correct / (i + 1))\n",
    "print(correct / count)"
   ]
  },
  {
   "cell_type": "code",
   "execution_count": 504,
   "metadata": {},
   "outputs": [
    {
     "name": "stdout",
     "output_type": "stream",
     "text": [
      "20695 20828\n"
     ]
    }
   ],
   "source": [
    "print(correct, count)"
   ]
  },
  {
   "cell_type": "code",
   "execution_count": null,
   "metadata": {},
   "outputs": [],
   "source": []
  }
 ],
 "metadata": {
  "kernelspec": {
   "display_name": "Python 3",
   "language": "python",
   "name": "python3"
  },
  "language_info": {
   "codemirror_mode": {
    "name": "ipython",
    "version": 3
   },
   "file_extension": ".py",
   "mimetype": "text/x-python",
   "name": "python",
   "nbconvert_exporter": "python",
   "pygments_lexer": "ipython3",
   "version": "3.6.1"
  }
 },
 "nbformat": 4,
 "nbformat_minor": 2
}
