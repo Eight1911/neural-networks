{
 "cells": [
  {
   "cell_type": "markdown",
   "metadata": {},
   "source": [
    "# Poom C's Char-LSTM Langauge Detector\n",
    "---\n",
    "This is an char-LSTM for language classifier. The model is standard LSTMs with Dropout and added input noise. The data is taken from *European Parliament Proceedings Parallel Corpus 1996-2011* and the test set is obtained from https://fellowship.ai/challenge/ in late 2017. (Sounds like a macbook pro lol.) The code explains itself."
   ]
  },
  {
   "cell_type": "code",
   "execution_count": 1,
   "metadata": {},
   "outputs": [],
   "source": [
    "import re\n",
    "import os\n",
    "import random\n",
    "import numpy as np\n",
    "import numpy.random as rd\n",
    "import tensorflow as tf\n",
    "\n",
    "import matplotlib\n",
    "import matplotlib.pyplot as plt\n",
    "% matplotlib inline"
   ]
  },
  {
   "cell_type": "code",
   "execution_count": 2,
   "metadata": {},
   "outputs": [],
   "source": [
    "\n",
    "def reader(directory):\n",
    "    \"\"\"\n",
    "    Takes \n",
    "        - directory : string\n",
    "            the directory path of all the text files\n",
    "    Returns \n",
    "        - dict[string -> list[string]]\n",
    "            a dictionary whose keys are the languages (folder-name)\n",
    "            and values are list of strings in the files in the folder\n",
    "    \"\"\"\n",
    "    def parse(base_name, files):\n",
    "        print(\"parsing files in\", base_name)\n",
    "        pattern = re.compile('<[^>]*>')\n",
    "        strings = []\n",
    "        for name in files:\n",
    "            with open(base_name + \"/\"+ name, errors='replace') as f:\n",
    "                strings.append(re.sub(pattern, '', f.read().strip()))\n",
    "        return strings\n",
    "\n",
    "    def main(directory):\n",
    "        scanner = os.walk(directory)\n",
    "        _, folders, _ = next(scanner)\n",
    "        return {name: parse(name, files)\n",
    "                for name, _, files in scanner}\n",
    "    \n",
    "    return main(directory)"
   ]
  },
  {
   "cell_type": "markdown",
   "metadata": {},
   "source": [
    "Then we parse the files. This will take sometime. Go get coffee or something."
   ]
  },
  {
   "cell_type": "code",
   "execution_count": 3,
   "metadata": {
    "scrolled": true
   },
   "outputs": [
    {
     "name": "stdout",
     "output_type": "stream",
     "text": [
      "parsing files in ./text/bg\n",
      "parsing files in ./text/cs\n",
      "parsing files in ./text/da\n",
      "parsing files in ./text/de\n",
      "parsing files in ./text/el\n",
      "parsing files in ./text/en\n",
      "parsing files in ./text/es\n",
      "parsing files in ./text/et\n",
      "parsing files in ./text/fi\n",
      "parsing files in ./text/fr\n",
      "parsing files in ./text/hu\n",
      "parsing files in ./text/it\n",
      "parsing files in ./text/lt\n",
      "parsing files in ./text/lv\n",
      "parsing files in ./text/nl\n",
      "parsing files in ./text/pl\n",
      "parsing files in ./text/pt\n",
      "parsing files in ./text/ro\n",
      "parsing files in ./text/sk\n",
      "parsing files in ./text/sl\n",
      "parsing files in ./text/sv\n"
     ]
    }
   ],
   "source": [
    "strings = reader(\"./text\")\n",
    "joined = { lang: \" | \".join(strings[lang])\n",
    "            for lang in strings }\n",
    "charset = { lang: set(joined[lang]) for lang in joined }\n",
    "languages = sorted(charset)\n"
   ]
  },
  {
   "cell_type": "code",
   "execution_count": 4,
   "metadata": {},
   "outputs": [
    {
     "name": "stdout",
     "output_type": "stream",
     "text": [
      "total number of characters: 4499444944\n"
     ]
    }
   ],
   "source": [
    "num_chars = sum(len(corp) for corp in joined.values())\n",
    "print(\"total number of characters:\", num_chars)"
   ]
  },
  {
   "cell_type": "code",
   "execution_count": 5,
   "metadata": {},
   "outputs": [],
   "source": [
    "def stream(joined, window_size, char_to_ind, error_rate=0.001):\n",
    "    error_ind = char_to_ind[\"error\"]\n",
    "    languages = sorted(joined)\n",
    "    labels = [np.repeat(i, window_size) for i in range(len(languages))]\n",
    "    \n",
    "    def next_point():\n",
    "        index = random.randrange(len(languages))\n",
    "        string = joined[languages[index]]\n",
    "        start = random.randrange(0, len(string) - window_size)\n",
    "        substring = string[start:start+window_size]\n",
    "        \n",
    "        # add random all upper case and all lower case data \n",
    "        #rand = random.random() \n",
    "        #if rand > 0.9:\n",
    "        #    substring = substring.lower()[:window_size]\n",
    "        # if rand < 0.05:\n",
    "        #     substring = substring.upper()[:window_size]\n",
    "        inputs = np.array([char_to_ind[c] for c in substring])\n",
    "        if error_rate > 0:\n",
    "            error = rd.binomial(1, error_rate, len(substring))\n",
    "            mask = error.astype(bool)\n",
    "            inputs[mask] = error_ind\n",
    "\n",
    "        return labels[index], inputs\n",
    "\n",
    "    def iterate(batch_size):\n",
    "        while True:\n",
    "            data = [next_point() for _ in range(batch_size)]\n",
    "            labels, inputs = zip(*data)\n",
    "            yield np.vstack(labels), np.array(inputs)\n",
    "\n",
    "    return iterate"
   ]
  },
  {
   "cell_type": "code",
   "execution_count": 17,
   "metadata": {},
   "outputs": [
    {
     "name": "stdout",
     "output_type": "stream",
     "text": [
      "497 unique characters\n"
     ]
    }
   ],
   "source": [
    "unique_char = set([\"error\"])\n",
    "for lang in charset:\n",
    "    unique_char.update(charset[lang])\n",
    "#unique_char.update([i for c in unique_char for i in c.upper() ])\n",
    "#unique_char.update([i for c in unique_char for i in c.lower() ])\n",
    "unique_char = sorted(unique_char)\n",
    "num_unique_chars = len(unique_char)\n",
    "char_to_ind = { c : i for i, c in enumerate(unique_char) }\n",
    "print(num_unique_chars, \"unique characters\")"
   ]
  },
  {
   "cell_type": "markdown",
   "metadata": {},
   "source": [
    "We use a standard Char-LSTM classifier for this problem. That is, we embed characters into $\\mathbb{R}^n$, feed the sequence of embedded points into the RNN and have each output be measured against the one-hot language vector using KL divergence. \n",
    "\n",
    "We also use dropout in the input layer to improve generalizability and add a 1% random error in the input."
   ]
  },
  {
   "cell_type": "code",
   "execution_count": 18,
   "metadata": {},
   "outputs": [],
   "source": [
    "rnn_size = 40\n",
    "num_layers = 2\n",
    "batch_size = 30\n",
    "window_size = 130\n",
    "output_size = 21\n",
    "\n",
    "tf.reset_default_graph()"
   ]
  },
  {
   "cell_type": "code",
   "execution_count": 19,
   "metadata": {},
   "outputs": [],
   "source": [
    "char_ids = tf.placeholder(tf.int64, [batch_size, window_size])\n",
    "labels   = tf.placeholder(tf.int64, [batch_size, window_size])\n",
    "pkeep    = tf.placeholder(tf.float64)"
   ]
  },
  {
   "cell_type": "code",
   "execution_count": 20,
   "metadata": {},
   "outputs": [],
   "source": [
    "weights = np.linspace(0, 1, window_size) ** 0.5"
   ]
  },
  {
   "cell_type": "code",
   "execution_count": 21,
   "metadata": {},
   "outputs": [],
   "source": [
    "# xavier initialization\n",
    "embedding = rd.randn(num_unique_chars, rnn_size)\n",
    "embedding = tf.Variable(embedding / np.sqrt(rnn_size + rnn_size))\n",
    "inp = tf.nn.embedding_lookup(embedding, char_ids)\n",
    "\n",
    "# xavier initialization\n",
    "noise_prob = tf.Variable(np.eye(output_size))\n",
    "decoder = rd.randn(rnn_size, output_size)\n",
    "decoder = tf.Variable(decoder / np.sqrt(rnn_size + output_size))\n",
    "bias    = tf.zeros(output_size, tf.float64)"
   ]
  },
  {
   "cell_type": "code",
   "execution_count": 22,
   "metadata": {},
   "outputs": [],
   "source": [
    "lstm_cell = lambda size: (\n",
    "    tf.nn.rnn_cell.DropoutWrapper\n",
    "   (tf.nn.rnn_cell.LSTMCell(size), pkeep))\n",
    "# lstm_cell = tf.nn.rnn_cell.LSTMCell\n",
    "cells = [lstm_cell(rnn_size) for _ in range(num_layers)]\n",
    "lstm = tf.nn.rnn_cell.MultiRNNCell(cells)"
   ]
  },
  {
   "cell_type": "code",
   "execution_count": 23,
   "metadata": {},
   "outputs": [],
   "source": [
    "state = lstm.zero_state(batch_size, tf.float64)\n",
    "outputs = []\n",
    "for i in range(window_size):\n",
    "    output, state = lstm(inp[:,i,:], state)\n",
    "    outputs.append(output)\n",
    "\n",
    "outputs = tf.stack(outputs, axis=1)\n",
    "outputs = tf.tensordot(outputs, decoder, [[2], [0]]) + bias"
   ]
  },
  {
   "cell_type": "code",
   "execution_count": 24,
   "metadata": {},
   "outputs": [],
   "source": [
    "len_index = 100\n",
    "prediction = tf.argmax(outputs[:, len_index], axis=1),\n",
    "accuracy = tf.reduce_sum(tf.cast(tf.equal(prediction, labels[:, len_index]), tf.int64))"
   ]
  },
  {
   "cell_type": "markdown",
   "metadata": {},
   "source": [
    "the next two cells will take some time. please go get another cup of coffee."
   ]
  },
  {
   "cell_type": "code",
   "execution_count": 28,
   "metadata": {},
   "outputs": [],
   "source": [
    "longname = tf.nn.sparse_softmax_cross_entropy_with_logits # lol\n",
    "loss_matrix = longname(logits=outputs, labels=labels)\n",
    "total_loss = tf.reduce_mean(weights * loss_matrix)\n",
    "\n",
    "optimizer = tf.train.AdamOptimizer(1e-3)\n",
    "minimizer = optimizer.minimize(total_loss)"
   ]
  },
  {
   "cell_type": "code",
   "execution_count": 29,
   "metadata": {},
   "outputs": [],
   "source": [
    "sess = tf.Session()\n",
    "sess.run(tf.global_variables_initializer())"
   ]
  },
  {
   "cell_type": "markdown",
   "metadata": {},
   "source": [
    "since we are training, this cell will also take very long, go get two more cups of coffee."
   ]
  },
  {
   "cell_type": "code",
   "execution_count": 42,
   "metadata": {
    "scrolled": true
   },
   "outputs": [
    {
     "name": "stdout",
     "output_type": "stream",
     "text": [
      "iteration 0 with decaying accuracy [[ 0.3475      0.34816667  0.35016667  0.3495      0.3495      0.3515\n",
      "   0.35216667  0.35316667  0.3535      0.35416667  0.3535      0.3535\n",
      "   0.3535      0.35416667  0.3545      0.35483333  0.3545      0.35416667\n",
      "   0.35483333  0.3545      0.3555      0.35516667  0.3555      0.3555\n",
      "   0.3555      0.3555      0.3555      0.3555      0.3555      0.3555\n",
      "   0.3555      0.3555      0.35583333  0.35583333  0.35616667  0.35616667\n",
      "   0.35616667  0.35616667  0.35616667  0.3565      0.35616667  0.3565\n",
      "   0.3565      0.3565      0.3565      0.3565      0.3565      0.3565\n",
      "   0.3565      0.3565      0.3565      0.3565      0.3565      0.3565\n",
      "   0.3565      0.3565      0.3565      0.3565      0.3565      0.3565\n",
      "   0.3565      0.3565      0.3565      0.3565      0.3565      0.3565\n",
      "   0.3565      0.3565      0.3565      0.3565      0.3565      0.3565\n",
      "   0.3565      0.3565      0.3565      0.3565      0.3565      0.3565\n",
      "   0.3565      0.3565      0.3565      0.3565      0.3565      0.3565\n",
      "   0.3565      0.3565      0.3565      0.3565      0.3565      0.3565\n",
      "   0.3565      0.3565      0.3565      0.3565      0.3565      0.3565\n",
      "   0.3565      0.3565      0.3565      0.3565      0.3565      0.3565\n",
      "   0.3565      0.3565      0.3565      0.3565      0.3565      0.3565\n",
      "   0.3565      0.3565      0.3565      0.3565      0.3565      0.3565\n",
      "   0.3565      0.3565      0.3565      0.3565      0.3565      0.3565\n",
      "   0.3565      0.3565      0.3565      0.3565      0.3565      0.3565\n",
      "   0.3565      0.3565      0.3565      0.3565    ]]\n",
      "iteration 200 with decaying accuracy [[ 0.17741862  0.23328054  0.28131891  0.32990937  0.38214563  0.41957827\n",
      "   0.46236677  0.50929653  0.54121479  0.56996672  0.60182978  0.63426296\n",
      "   0.66153325  0.68510422  0.70700858  0.72167554  0.73973735  0.75518861\n",
      "   0.76841105  0.78287623  0.79412147  0.8048903   0.81494667  0.8210094\n",
      "   0.82709493  0.83505726  0.84229324  0.84524225  0.85293948  0.85734014\n",
      "   0.86116056  0.86537203  0.87071607  0.87451654  0.87669803  0.88037344\n",
      "   0.88216827  0.88276893  0.88396655  0.8875612   0.88833897  0.89091056\n",
      "   0.89367817  0.89511912  0.89564061  0.89738673  0.89885431  0.89935684\n",
      "   0.89885058  0.89963554  0.89918422  0.90131987  0.90138381  0.90167578\n",
      "   0.9030992   0.90298017  0.90405037  0.90428633  0.90549703  0.90565708\n",
      "   0.90574386  0.90662298  0.90694938  0.90581832  0.90669067  0.90739431\n",
      "   0.90684515  0.90693066  0.90787416  0.90819583  0.9078047   0.90917838\n",
      "   0.90935566  0.90965001  0.90933115  0.91015345  0.91011993  0.9108013\n",
      "   0.91099757  0.9110468   0.91081045  0.91110766  0.91129137  0.91065134\n",
      "   0.91091835  0.91196963  0.91188605  0.91207592  0.91196686  0.91214947\n",
      "   0.91253832  0.91258672  0.91239637  0.91263322  0.91231622  0.91247995\n",
      "   0.91268162  0.91268162  0.91236462  0.91268162  0.91277845  0.91278103\n",
      "   0.9127156   0.91299309  0.91292766  0.91281184  0.91299309  0.91299309\n",
      "   0.91305594  0.91263664  0.91281531  0.91299051  0.91299051  0.91299051\n",
      "   0.91305594  0.91290382  0.91290382  0.91299051  0.91290382  0.913037\n",
      "   0.913037    0.91295031  0.913037    0.91310243  0.9131378   0.9131378\n",
      "   0.91320323  0.91313861  0.91325464  0.91325464]]\n",
      "iteration 400 with decaying accuracy [[ 0.14824047  0.21630175  0.27240521  0.33035626  0.38938384  0.43243292\n",
      "   0.48266251  0.5294643   0.57677159  0.60927309  0.64555482  0.6807602\n",
      "   0.70316973  0.73134995  0.75443103  0.77348238  0.78878406  0.80274297\n",
      "   0.8213081   0.83452925  0.84697511  0.85942017  0.87095595  0.87911908\n",
      "   0.88838727  0.89637297  0.90255487  0.90595876  0.90997257  0.91603047\n",
      "   0.91995679  0.92603412  0.93060273  0.93513266  0.93722547  0.94282594\n",
      "   0.94461994  0.94921692  0.95117049  0.95421433  0.95645883  0.96005205\n",
      "   0.96056827  0.9623495   0.96501455  0.96618433  0.96644171  0.96810852\n",
      "   0.96826702  0.96983356  0.97078931  0.97241573  0.97293604  0.97407062\n",
      "   0.9753329   0.97443641  0.97566391  0.9768098   0.97728421  0.97771831\n",
      "   0.97810575  0.97806752  0.97955085  0.9806667   0.98022233  0.98064139\n",
      "   0.98104143  0.98158288  0.98205603  0.98214481  0.98177731  0.98312634\n",
      "   0.98378786  0.98343726  0.98336443  0.98264276  0.98379591  0.98343417\n",
      "   0.98330725  0.98376528  0.98432462  0.98462178  0.98452987  0.98429327\n",
      "   0.98437749  0.98444681  0.98445152  0.98471694  0.98473307  0.98548104\n",
      "   0.98613893  0.9862154   0.98622641  0.98625814  0.98592698  0.98602499\n",
      "   0.98646066  0.98672839  0.986687    0.98630737  0.98662942  0.98672553\n",
      "   0.98641155  0.98638293  0.98655336  0.98669158  0.98676768  0.98641825\n",
      "   0.98671001  0.98692871  0.9865064   0.98667018  0.98694252  0.98727475\n",
      "   0.98742314  0.98705799  0.98721173  0.98733684  0.9871891   0.98759379\n",
      "   0.98718046  0.9876024   0.98751379  0.98728945  0.98763622  0.98778997\n",
      "   0.98779873  0.98785983  0.98779538  0.98764164]]\n"
     ]
    }
   ],
   "source": [
    "cumulative = 0.35\n",
    "datastream = stream(joined, window_size, char_to_ind)(batch_size)\n",
    "for i in range(500000):\n",
    "    y, x = next(datastream)\n",
    "    acc = sess.run([accuracy, minimizer], feed_dict = { char_ids:x, labels:y, pkeep:0.5 })\n",
    "    cumulative *= 0.99\n",
    "    cumulative += 0.01 * acc[0] / batch_size\n",
    "    if i % 200 == 0:\n",
    "        print(\"iteration\", i, \"with decaying accuracy\", cumulative)"
   ]
  },
  {
   "cell_type": "code",
   "execution_count": 32,
   "metadata": {},
   "outputs": [],
   "source": [
    "prediction = tf.argmax(outputs, axis=2),\n",
    "accuracy = tf.reduce_sum(tf.cast(tf.equal(prediction, labels), tf.int64), axis=1)"
   ]
  },
  {
   "cell_type": "markdown",
   "metadata": {},
   "source": [
    "We test internal accuracy using the same data set. We will use another data set to test generalizability."
   ]
  },
  {
   "cell_type": "code",
   "execution_count": 40,
   "metadata": {
    "collapsed": true
   },
   "outputs": [
    {
     "name": "stdout",
     "output_type": "stream",
     "text": [
      "iteration 0 with total accuracy [ 0.13333333  0.26666667  0.33333333  0.26666667  0.3         0.4\n",
      "  0.53333333  0.53333333  0.6         0.6         0.7         0.7\n",
      "  0.66666667  0.7         0.8         0.8         0.83333333  0.83333333\n",
      "  0.83333333  0.83333333  0.86666667  0.86666667  0.86666667  0.86666667\n",
      "  0.86666667  0.86666667  0.86666667  0.86666667  0.86666667  0.93333333\n",
      "  0.93333333  0.93333333  0.96666667  0.96666667  0.96666667  0.96666667\n",
      "  0.96666667  0.96666667  0.96666667  0.96666667  0.96666667  0.93333333\n",
      "  0.93333333  0.93333333  0.93333333  0.93333333  0.93333333  0.93333333\n",
      "  0.93333333  0.96666667  0.96666667  0.96666667  0.96666667  0.96666667\n",
      "  0.96666667  0.96666667  0.96666667  0.96666667  0.96666667  0.96666667\n",
      "  0.96666667  0.96666667  0.96666667  0.96666667  0.96666667  0.96666667\n",
      "  0.96666667  0.96666667  0.96666667  0.96666667  0.96666667  0.96666667\n",
      "  0.96666667  0.96666667  0.96666667  0.96666667  0.96666667  0.96666667\n",
      "  1.          1.          1.          1.          1.          1.          1.\n",
      "  1.          1.          1.          1.          1.          1.          1.\n",
      "  1.          1.          1.          1.          1.          1.          1.\n",
      "  1.          1.          1.          1.          1.          1.          1.\n",
      "  1.          1.          1.          1.          1.          1.          1.\n",
      "  1.          1.          1.          1.          1.          1.          1.\n",
      "  1.          1.          1.          1.          1.          1.          1.\n",
      "  1.          1.          1.        ]\n",
      "iteration 200 with total accuracy [ 0.17064677  0.23797678  0.31044776  0.38358209  0.43930348  0.4946932\n",
      "  0.54875622  0.59552239  0.63598673  0.67960199  0.7145937   0.74262023\n",
      "  0.7681592   0.79087894  0.81426202  0.83349917  0.84925373  0.8615257\n",
      "  0.87810945  0.88988391  0.89817579  0.90862355  0.91608624  0.9225539\n",
      "  0.93101161  0.93532338  0.94129353  0.94543947  0.94809287  0.95257048\n",
      "  0.95489221  0.95837479  0.96334992  0.96650083  0.96981758  0.97131012\n",
      "  0.97363184  0.97562189  0.97860697  0.97993367  0.98092869  0.98208955\n",
      "  0.98374793  0.9840796   0.98524046  0.98623549  0.986733    0.98689884\n",
      "  0.98789386  0.98822554  0.98872305  0.98922056  0.98988391  0.99004975\n",
      "  0.99054726  0.9920398   0.99237148  0.99286899  0.99286899  0.99286899\n",
      "  0.99303483  0.99253731  0.99286899  0.9933665   0.99353234  0.99419569\n",
      "  0.9946932   0.99452736  0.99502488  0.99519071  0.99535655  0.99535655\n",
      "  0.9960199   0.9960199   0.99651741  0.99651741  0.99635158  0.99668325\n",
      "  0.9973466   0.9973466   0.99751244  0.9973466   0.99767828  0.99751244\n",
      "  0.99784411  0.99834163  0.99850746  0.99850746  0.99850746  0.9986733\n",
      "  0.99850746  0.99850746  0.9986733   0.9986733   0.9986733   0.99883914\n",
      "  0.9986733   0.9986733   0.9986733   0.99834163  0.99834163  0.99834163\n",
      "  0.99883914  0.9986733   0.99883914  0.99883914  0.99917081  0.99917081\n",
      "  0.99917081  0.99900498  0.99933665  0.99933665  0.99933665  0.99917081\n",
      "  0.99917081  0.99933665  0.99917081  0.99917081  0.99933665  0.99933665\n",
      "  0.99933665  0.99933665  0.99933665  0.99933665  0.99933665  0.99933665\n",
      "  0.99983416  0.99983416  0.99966833  0.99950249]\n"
     ]
    }
   ],
   "source": [
    "datastream = stream(joined, window_size, char_to_ind, error_rate=0.0)(batch_size)\n",
    "cum_acc = 0\n",
    "for i in range(201):\n",
    "    y, x = next(datastream)\n",
    "    [acc] = sess.run([accuracy], feed_dict = { char_ids:x, labels: y, pkeep:1.0 })\n",
    "    cum_acc += acc[-1] / batch_size\n",
    "    if i % 200 == 0:\n",
    "        print(\"iteration\", i, \"with total accuracy\", cum_acc / (i + 1))"
   ]
  },
  {
   "cell_type": "markdown",
   "metadata": {},
   "source": [
    "Below is the plot of the accuracy of the predictor. \n",
    "the x-axis is the length and the y-axis is the accuracy"
   ]
  },
  {
   "cell_type": "code",
   "execution_count": 46,
   "metadata": {},
   "outputs": [
    {
     "data": {
      "image/png": "[encoded data removed]",
      "text/plain": [
       "<matplotlib.figure.Figure at 0x4a875f668>"
      ]
     },
     "metadata": {},
     "output_type": "display_data"
    }
   ],
   "source": [
    "plt.plot([0, 130], [1, 1])\n",
    "plt.plot(cum_acc / 201)\n",
    "plt.xlabel(\"sentence length\")\n",
    "plt.ylabel(\"prediction accuracy\")\n",
    "plt.show()"
   ]
  },
  {
   "cell_type": "code",
   "execution_count": 35,
   "metadata": {},
   "outputs": [],
   "source": [
    "def predict(sentence):\n",
    "    sentence = sentence.strip()\n",
    "    if len(sentence) > window_size - 3:\n",
    "        raise ValueError\n",
    "    \n",
    "    new_s = \"| \" + sentence + \" \" * (window_size - len(sentence) - 2)\n",
    "    inputs = [char_to_ind[i] \n",
    "                if i in char_to_ind \n",
    "                else char_to_ind[\"error\"]\n",
    "                for i in new_s]\n",
    "    outvec = sess.run(outputs, feed_dict = { \n",
    "        char_ids: [inputs] * batch_size,\n",
    "        labels: [inputs] * batch_size,\n",
    "        pkeep: 1.0\n",
    "    })\n",
    "    outvec = -outvec[0, len(sentence) - 1]\n",
    "    # print(np.exp(outvec) / np.exp(outvec).sum())\n",
    "    return [languages[i] for i in np.argsort(outvec)]"
   ]
  },
  {
   "cell_type": "code",
   "execution_count": 36,
   "metadata": {},
   "outputs": [],
   "source": [
    "import csv\n",
    "with open(\"./europarl.test\", \"r\") as f:\n",
    "    reader = csv.reader(f, delimiter=\"\\t\")\n",
    "    reader = [*reader]"
   ]
  },
  {
   "cell_type": "code",
   "execution_count": 37,
   "metadata": {},
   "outputs": [
    {
     "name": "stdout",
     "output_type": "stream",
     "text": [
      "1.0\n",
      "error ('da', 'sv', 'Det har fortfarande inte gjorts.')\n",
      "error ('de', 'en', 'Regarding Amendment No 48')\n",
      "error ('ro', 'fr', 'Je terminerai cependant sur un appel.')\n",
      "error ('sk', 'cs', 'Nesmíme toto hledisko opomíjet.')\n",
      "error ('sk', 'cs', 'Evropští občané mrhají cennými minutami, či dokonce hodinami cestováním.')\n",
      "error ('sk', 'cs', 'Naprosto souhlasím s panem Maatenem.')\n",
      "0.994005994005994\n",
      "error ('pt', 'es', 'Pero afortunadamente sí podemos hacer algo.')\n",
      "error ('sk', 'cs', 'Úlohou Ruska je zefektivnit své postupy na hranicích.')\n",
      "error ('sk', 'cs', 'Standard, který vyžadovala Rada Evropy, byl pro všechny stejný a závazný.')\n",
      "error ('sl', 'sk', 'Rozprava sa skončila.')\n",
      "error ('es', 'fr', 'Il ne dispose pas de fonds suffisants.')\n",
      "0.9945027486256871\n",
      "error ('de', 'nl', 'Water is echter niet gratis.')\n",
      "error ('sk', 'cs', 'Co tedy tato síť obsahuje?')\n",
      "error ('it', 'fr', 'Le vote aura lieu mercredi à 11h30.')\n",
      "error ('nl', 'da', 'Siden 1990 er verdenshandelen vokset eksplosivt.')\n",
      "error ('de', 'nl', 'Dit instrument is in dit opzicht dus volledig tekortgeschoten.')\n",
      "error ('lt', 'et', '(Parlament kinnitas ettepaneku.)')\n",
      "0.9943352215928024\n",
      "error ('sk', 'cs', 'Filipíny (hlasování)')\n",
      "error ('ro', 'fr', 'La directive \"habitat\" impose un objectif explicite.')\n",
      "error ('it', 'ro', 'Cauza este una nobilă.')\n",
      "error ('pt', 'es', 'Puede tan sólo declarar \"adoptado\" o \"no adoptado\".')\n",
      "error ('sk', 'cs', 'Tím myslím, že když jakákoli osoba, společnost nebo banka chce investovat peníze v daňovém ráji, musí daňový ráj deklarovat zemi původu peníze, které byly investovány.')\n",
      "error ('sk', 'cs', 'Rozhodnutí o určitých dokumentech: viz zápis')\n",
      "error ('cs', 'sk', 'Vláda sa teraz o tento konflikt zaujíma.')\n",
      "error ('sk', 'cs', 'Bianco šek pro budoucnost, která zpráva požaduje, nelze brát vážně.')\n",
      "0.9937515621094727\n",
      "error ('pt', 'es', 'Es responsabilidad nuestra evitar esto.')\n",
      "error ('sk', 'cs', 'Rusko má zatím daleko k demokracii i k tomu stát se spolehlivým partnerem.')\n",
      "error ('hu', 'sk', 'Nasleduje hodina otázok (B6-0316/2007).')\n",
      "error ('sk', 'cs', 'Takový pohled je cynicky a nelidský.')\n",
      "error ('nl', 'da', '(Protokollen godkendtes)')\n",
      "error ('sv', 'hu', 'A mondat nyelvtanilag nem helyes.')\n",
      "error ('en', 'nl', 'Op dit punt faalt Stockholm.')\n",
      "0.9936012797440512\n",
      "error ('sl', 'et', 'Eelmise istungi protokolli kinnitamine (vt protokoll)')\n",
      "error ('sk', 'cs', 'Dle mého názoru se tyto činnosti velice shodují s vašimi návrhy.')\n",
      "error ('da', 'sv', 'Under årens lopp har en tredjedel av befolkningen mist livet.')\n",
      "error ('sk', 'cs', 'dalším bodem je doba vyhrazená pro otázky (B6-0462/2008).')\n",
      "error ('sk', 'cs', 'Je také nezbytné rozvinout výzkum v rámci 7. rámcového programu.')\n",
      "0.9938343609398433\n",
      "error ('de', 'it', 'Relazione Hatzidakis (A5-0076/2000)')\n",
      "error ('sl', 'lt', \"(EL) Pone pirmininke, mes, Europos Parlamento PASOK frakcija, balsavome už S. Berlato's pranešimą.\")\n",
      "error ('hu', 'sk', 'Jedna Európa, jeden hlas!')\n",
      "error ('lt', 'lv', 'Balsojumu mutiskie skaidrojumi')\n",
      "error ('sk', 'cs', 'Nedošlo k hloubkové analýze rizik chyb v modelu maximálního udržitelného výnosu.')\n",
      "error ('sk', 'cs', 'Plán práce: viz zápis')\n",
      "error ('it', 'es', '(El Presidente interrumpe a la oradora)')\n",
      "error ('da', 'sv', 'Det har nyss påpekats hur det kommer sig.')\n",
      "error ('sl', 'hu', 'Aggodalomra ad okot.')\n",
      "0.99342951006999\n",
      "error ('sk', 'sl', 'Prav tako bi rad spregovoril o pripombi Lászla Surjána.')\n",
      "error ('fi', 'fr', 'M. Seppänen en a parlé hier.')\n",
      "error ('lv', 'lt', 'Jis, regis, kaip niekada čia tinka.')\n",
      "error ('sv', 'et', 'Aitäh, härra Dehaene.')\n",
      "0.9937507811523559\n",
      "error ('de', 'sv', 'Herr ordförande! Kollegor!')\n",
      "error ('sk', 'cs', 'Každý, kdo má zdravý rozum, je pacifista.')\n",
      "error ('da', 'sv', 'skriftlig. - (SK) Nivån på konsumentskyddet skiljer sig åt mellan medlemsstaterna.')\n",
      "error ('en', 'fr', 'Naufrage du cargo New Flame (vote)')\n",
      "0.9940006665926008\n",
      "error ('es', 'en', 'Hence my plea, Mr President.')\n",
      "error ('cs', 'de', 'Und genau dort - in der historischen Region Těšín, die heute die tschechische Stadt Český Těší und die polnische Stadt Cieszyn einschließt - wurde ein Projekt mit dem Namen \"Ein Garten an beiden Flussufern\" geschaffen, da ein Fluss zwischen den beiden Städten verläuft, die einst eine Stadteinheit bildeten.')\n",
      "error ('sl', 'sk', 'To boli pravdepodobne fakty.')\n",
      "error ('sk', 'cs', 'Tak tento odstavec chápu já.')\n",
      "error ('cs', 'sk', 'Je iba spoločná mena.')\n",
      "0.9941005899410059\n",
      "error ('pt', 'sl', 'Gospa Breyer ima besedo.')\n",
      "error ('da', 'sv', 'Jag reserverar mig i två frågor.')\n",
      "error ('fi', 'et', 'Ma vastan teie kahtlustele otse.')\n",
      "error ('hu', 'pt', 'Relatório Thyssen (A4-0137/99)')\n",
      "error ('pt', 'es', 'Tengo una o dos preguntas.')\n",
      "error ('lt', 'lv', 'Pateicos jums visiem.')\n",
      "0.9940914462321607\n",
      "error ('pt', 'es', '(HU) Muchas gracias.')\n",
      "error ('en', 'da', 'Their will is the law, not only at home, but as to the concerns of every nation. ... They have swept away the very constitutions under which the Legislatures acted \" (De må være mere end blinde, dem, som ikke kan se, med hvilken usvigelig systematik, i dette tilfælde og i alle tilfælde, de forfølger deres plan for total ødelæggelse af enhver uafhængig magt. ...')\n",
      "error ('lv', 'lt', 'Svarbu jau vien tai, kad ši ataskaita paskelbta.')\n",
      "error ('sk', 'cs', 'To je podle mého názoru škoda.')\n",
      "error ('sk', 'cs', 'Synergie je dobrá myšlenka, je to dobré shrnutí propojení politických aktivit EU, politických aktivit Komise, avšak v zájmu lepší strukturovanosti jsme já a pan Swoboda navrhli, aby jí byl vdechnut parlamentní rozměr s konzultacemi ministrů na úrovni černomořské oblasti.')\n",
      "error ('sv', 'et', '(Istung algas kell 9.00)')\n",
      "error ('sk', 'cs', 'Jedna skupina je na jasných pravidlech zvlášť závislá.')\n",
      "0.9940004999583368\n",
      "error ('sk', 'cs', 'Je to práce pro politiky členských států.')\n",
      "error ('sk', 'cs', 'Jsou tyto zprávy pravdivé?')\n",
      "error ('lv', 'lt', 'Aš pats tai padariau.')\n",
      "error ('pl', 'sk', 'Rozsudok histórie je zrejmý.')\n",
      "error ('fr', 'it', 'Le fantasie non servono!')\n",
      "0.9940773786631798\n",
      "error ('de', 'pl', 'Regiony te to belgijski region Limburg, holenderski region Limburg i region Aachen.')\n",
      "error ('en', 'fi', 'Me saamme oppia yhdessä.')\n",
      "error ('en', 'da', 'Durão Barroso, har gjort for, at hr. Bush modtager Europa-Parlamentets formand, dvs.')\n",
      "error ('lt', 'en', '(BG) Thank you, Mr President.')\n",
      "error ('sk', 'cs', 'Ruský faktor je zásadní.')\n",
      "0.9941432754803229\n",
      "error ('sk', 'cs', 'Dnes myslím na nás, tedy na vás a na sebe.')\n",
      "error ('fr', 'en', 'Joint action is required.')\n",
      "error ('lv', 'et', 'Zoli, kas sinul oli sama?')\n",
      "error ('sk', 'cs', 'Jak jsem již uvedl, tento návrh byl již v minulosti schválen politickými skupinami.')\n",
      "0.9942670488634091\n",
      "error ('lv', 'et', '(Juhataja katkestas kõne)')\n",
      "error ('lv', 'lt', 'Suprantame, kad iškils problemų.')\n",
      "error ('sk', 'cs', 'Pro mnohé lidi se ve Spojeném království žije v hojnosti.')\n",
      "error ('sk', 'cs', 'Díky jsem spolu s patnácti společníky nalezla svobodu.')\n",
      "error ('fi', 'et', 'See on meie eesmärk.')\n",
      "error ('et', 'fi', 'Varsinkin, jos te tarjoatte, jäsen MacCormick.')\n",
      "0.9942503593525405\n",
      "error ('sk', 'cs', 'Jeho postavení by však mohlo být ohroženo, pokud by se jeho konkurenti uchýlili k nekalým obchodním praktikám nebo nedodržovali práva duševního vlastnictví.')\n",
      "error ('de', 'cs', 'Jmenovali se William Meyer, Bernard Starie, Reginald Pike, Thomas Shaw, James McLeish, Archibald Barrowman a Albert Roberts a všichni budou v sobotu vyznamenáni.')\n",
      "error ('lv', 'lt', 'Atminkite, Europa išmeta tik 10 proc. CO2 kiekio.')\n",
      "error ('sl', 'it', 'Vi sono osservazioni?')\n",
      "0.9943532733368625\n",
      "error ('lv', 'lt', 'Pvz., C. Wortmann-Kool, D. Feio ir G. Papanikolaou tai nurodsavo kalbose.')\n",
      "error ('sk', 'cs', 'Název je velmi výstižný.')\n",
      "error ('lv', 'lt', 'Tad kaip mums elgtis?')\n",
      "0.9945003055385812\n",
      "error ('sl', 'sk', 'To sme tu ešte asi nemali.')\n",
      "error ('sk', 'cs', 'Co jsme tím tehdy dali najevo?')\n",
      "error ('cs', 'sk', 'Je to také jednoduché.')\n",
      "error ('pl', 'ro', 'Mobilizarea Fondului european de ajustare la globalizare: H. Cegielski-Poznań, Polonia (')\n",
      "0.9945792326719647\n",
      "error ('sk', 'pt', 'Relatório Pollack (A4-0161/98)')\n",
      "error ('en', 'da', 'Afbrydelse af sessionen')\n",
      "error ('cs', 'pl', 'A zatem problemy są.')\n",
      "0.9947002649867507\n",
      "error ('pt', 'sv', 'Vad berodde detta på?')\n"
     ]
    },
    {
     "name": "stdout",
     "output_type": "stream",
     "text": [
      "error ('hu', 'da', 'Vi skal tale med én stemme.')\n",
      "error ('lt', 'es', 'Todas juntas son positivas.')\n",
      "0.9947666602650278\n"
     ]
    }
   ],
   "source": [
    "count = len(reader)\n",
    "correct = 0\n",
    "errors = []\n",
    "random.shuffle(reader)\n",
    "for i, (lab, text) in enumerate(reader):\n",
    "    p = predict(text[:127])[0]\n",
    "    correct += lab == p[-2:]\n",
    "    if lab != p[-2:]:\n",
    "        print(\"error\", (p[-2:], lab, text))\n",
    "        errors.append((lab, text))\n",
    "    \n",
    "    if i % 1000 == 0:\n",
    "        print(correct / (i + 1))\n",
    "print(correct / count)"
   ]
  },
  {
   "cell_type": "code",
   "execution_count": 44,
   "metadata": {},
   "outputs": [
    {
     "name": "stdout",
     "output_type": "stream",
     "text": [
      "20719 20828\n"
     ]
    }
   ],
   "source": [
    "print(correct, count)"
   ]
  },
  {
   "cell_type": "code",
   "execution_count": null,
   "metadata": {},
   "outputs": [],
   "source": []
  }
 ],
 "metadata": {
  "kernelspec": {
   "display_name": "Python 3",
   "language": "python",
   "name": "python3"
  },
  "language_info": {
   "codemirror_mode": {
    "name": "ipython",
    "version": 3
   },
   "file_extension": ".py",
   "mimetype": "text/x-python",
   "name": "python",
   "nbconvert_exporter": "python",
   "pygments_lexer": "ipython3",
   "version": "3.6.1"
  }
 },
 "nbformat": 4,
 "nbformat_minor": 2
}
