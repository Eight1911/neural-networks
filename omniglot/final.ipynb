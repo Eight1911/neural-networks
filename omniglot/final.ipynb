{
 "cells": [
  {
   "cell_type": "markdown",
   "metadata": {},
   "source": [
    "### Poom's ConvNet for One-Shot Learning on the Omniglob Dataset\n",
    "\n",
    "I follow the approach from [1], which reported a whopping 93.8% accuracy on 20-way one-shot character matching with some slight modifications: \n",
    "\n",
    "* weight decay replaces batch normalization.\n",
    "* rather than downsizing the image, a thin plate spline spatial transformer network is used to crop input images [2]\n",
    "* the elementwise complex norm of the fourier transform of the image is fed through a parallel network of the same architecture whose prediction is combined with the original one using learned weights to obtain the final prediction.\n",
    "* kernels of the first convolutional layer is larger to account for the intuition that larger image means larger features\n",
    "* Munkres assignment algorithm is used to find the maximum probability matching [3]\n",
    "* elastic distortions, small random rotations and small random shearing is used to augment the dataset\n",
    "\n",
    "These weird tricks and some more minor ones allow me to achieve a __prediction acccuracy of 97.8%__ which is almost a third of [1] __using a training set that's 3/4th of the size__. The intuition behind adding the fourier transform is that the elementwise norm of the fourier transform is translation invariant, which is useful when we want features that are independent of the position of the character in the image. (However, rotations commute with fourier transform, so we still need the spatial transformer network.)\n",
    "\n",
    "Disclaimer: the thin-plate spline spatial transfomer network (`crop.py`) is `iwyoo`'s implementation [4].\n",
    "\n",
    "[1] https://arxiv.org/abs/1606.04080  \n",
    "[2] https://arxiv.org/abs/1506.02025  \n",
    "[3] https://en.wikipedia.org/wiki/Hungarian_algorithm  \n",
    "[4] https://github.com/iwyoo/TPS_STN-tensorflow"
   ]
  },
  {
   "cell_type": "code",
   "execution_count": 1,
   "metadata": {},
   "outputs": [
    {
     "name": "stderr",
     "output_type": "stream",
     "text": [
      "/Users/eight1911/learn/lib/python3.6/site-packages/h5py/__init__.py:36: FutureWarning: Conversion of the second argument of issubdtype from `float` to `np.floating` is deprecated. In future, it will be treated as `np.float64 == np.dtype(float).type`.\n",
      "  from ._conv import register_converters as _register_converters\n"
     ]
    }
   ],
   "source": [
    "import functools\n",
    "import threading\n",
    "\n",
    "import crop\n",
    "import util\n",
    "import time\n",
    "\n",
    "import tensorflow as tf\n",
    "import scipy.optimize as opti\n",
    "import numpy.random as rd\n",
    "import numpy as np\n",
    "\n",
    "import matplotlib.pyplot as plt"
   ]
  },
  {
   "cell_type": "code",
   "execution_count": 2,
   "metadata": {},
   "outputs": [],
   "source": [
    "import random"
   ]
  },
  {
   "cell_type": "code",
   "execution_count": 3,
   "metadata": {},
   "outputs": [],
   "source": [
    "def threadify(func):\n",
    "    \"function runs in a new thread.\"\n",
    "\n",
    "    @functools.wraps(func)\n",
    "    def run(*args, **kwds):\n",
    "        new_thread = threading.Thread(\n",
    "            target = func,\n",
    "            args   = args,\n",
    "            kwargs = kwds)\n",
    "        new_thread.start()\n",
    "        return new_thread\n",
    "\n",
    "    return run"
   ]
  },
  {
   "cell_type": "code",
   "execution_count": 4,
   "metadata": {},
   "outputs": [],
   "source": [
    "def pairwise_cosine(a, b):\n",
    "    \"\"\"\n",
    "    computes the pairwise cosine distance of two batches of vectors\n",
    "    \n",
    "    input\n",
    "    =====\n",
    "    a : a tensor of shape [num_batch, num_features]\n",
    "      - a matrix of features\n",
    "    b : a tensor of shape [num_batch, num_features]\n",
    "      - a matrix of features\n",
    "    \n",
    "    output\n",
    "    ======\n",
    "    m : a square matrix m such that m[i, j] is the\n",
    "        cosine distance between a[i] and b[j]\n",
    "    \"\"\"\n",
    "    a = tf.transpose(a) / tf.norm(a, axis=1)\n",
    "    b = tf.transpose(b) / tf.norm(b, axis=1)\n",
    "    return tf.transpose(a) @ b"
   ]
  },
  {
   "cell_type": "code",
   "execution_count": 5,
   "metadata": {},
   "outputs": [],
   "source": [
    "def transform(x, pdrop, cropsize):\n",
    "    \"\"\"\n",
    "    the spatial transformer layer of the network, inputs an image\n",
    "    and returns a thin plate spline distorted version of a subimage\n",
    "    of the image that the network thinks will maximize presence of \n",
    "    features\n",
    "    \n",
    "    input\n",
    "    =====\n",
    "    \n",
    "    x : tensor of shape [num_batch, img_width, img_height]\n",
    "      - the image tensor that is raw input of transform network\n",
    "    pdrop : a float tensor or a float\n",
    "      - the dropout probability\n",
    "    cropsize : a tuple (int, int)\n",
    "      - the size of the output image. \n",
    "    \n",
    "    output\n",
    "    ======\n",
    "    img : tensor of shape [num_batch, cropsize[0], cropsize[1], 1]\n",
    "        - the output image\n",
    "    \"\"\"\n",
    "    \n",
    "    # theta is the control points of the thin-plate spline.\n",
    "    theta = tf.reshape(x, [x.shape[0], x.shape[1], x.shape[2], 1])\n",
    "    theta = tf.layers.conv2d(theta, 16, [5, 5], [2, 2], 'same')\n",
    "    theta = tf.layers.max_pooling2d(theta, [2, 2], [2, 2], 'same')\n",
    "    theta = tf.nn.leaky_relu(theta, 0.03)\n",
    "\n",
    "    theta = tf.layers.conv2d(theta, 16, [5, 5], [2, 2], 'same')\n",
    "    theta = tf.layers.max_pooling2d(theta, [2, 2], [2, 2], 'same')\n",
    "    theta = tf.nn.leaky_relu(theta, 0.03)\n",
    "\n",
    "    theta = tf.layers.conv2d(theta, 16, [5, 5], [1, 1], 'same')\n",
    "    theta = tf.nn.leaky_relu(theta, 0.03)\n",
    "\n",
    "    u = theta.shape[1] * theta.shape[2] * theta.shape[3]\n",
    "\n",
    "    theta = tf.reshape(theta, [-1, u])\n",
    "    theta = tf.layers.dropout(theta, pdrop)\n",
    "    theta = tf.layers.dense(theta, 40)\n",
    "    theta = tf.nn.leaky_relu(theta, 0.03)\n",
    "    theta = tf.layers.dropout(theta, pdrop)\n",
    "    theta = tf.layers.dense(theta, 18)\n",
    "\n",
    "    theta = tf.reshape(theta, [-1, 9, 2])\n",
    "    \n",
    "    # Initialze with a preference for zoomed in crops\n",
    "    # this is to force the spatial transformer network\n",
    "    # to \"do or die.\" Either it learns good crops or the \n",
    "    # network performace is compromised.\n",
    "    _x = np.linspace(0.3, -0.3, 3)\n",
    "    _y = np.linspace(0.3, -0.3, 3)\n",
    "    _x, _y = np.meshgrid(_x, _y)\n",
    "    _x = _x.reshape([-1])\n",
    "    _y = _y.reshape([-1])\n",
    "\n",
    "    theta += np.vstack([_x, _y]).T\n",
    "    \n",
    "    return theta, crop.TPS_STN(x, 3, 3, theta, (32, 32))"
   ]
  },
  {
   "cell_type": "code",
   "execution_count": 6,
   "metadata": {},
   "outputs": [],
   "source": [
    "def fft_norm(image):\n",
    "    \"\"\"\n",
    "    the norm of the fourier transform of the image\n",
    "    \n",
    "    input\n",
    "    =====\n",
    "    x : tensor of shape [num_batch, img_width, img_height]\n",
    "      - the input image\n",
    "    output\n",
    "    ======\n",
    "    u : tensor of shape [num_batch, img_width, img_height / 2]\n",
    "      - the fourier transform of the input image\n",
    "    \"\"\"\n",
    "    image = tf.reshape(image, [image.shape[0], image.shape[1], image.shape[2]])\n",
    "    image = tf.spectral.rfft2d(image)\n",
    "    image = tf.reshape(image, [-1, image.shape[1], image.shape[2], 1])\n",
    "    return tf.sqrt(tf.real(image)**2 + tf.imag(image)**2)"
   ]
  },
  {
   "cell_type": "code",
   "execution_count": 7,
   "metadata": {},
   "outputs": [],
   "source": [
    "def push(x, pdrop):\n",
    "    \"\"\"\n",
    "    the main convolutional layers. we apply this to the image and its \n",
    "    fourier transform in parallel.\n",
    "    \n",
    "    input\n",
    "    =====\n",
    "    x : tensor of shape [num_batch, img_width, img_height]\n",
    "      - the input image\n",
    "    pdrop : a float tensor or a float\n",
    "      - the dropout probability\n",
    "    \n",
    "    output\n",
    "    ======\n",
    "    y : tensor of shape [num_batch, 64]\n",
    "      - the output image (will raise an error if the input image is too big)\n",
    "    \"\"\"\n",
    "    x = tf.layers.conv2d(x, 64, [5, 5], [2, 2], 'same')\n",
    "    x = tf.layers.max_pooling2d(x, [2, 2], [2, 2], 'same')\n",
    "    x = tf.nn.leaky_relu(x, 0.03)\n",
    "\n",
    "    x = tf.layers.conv2d(x, 64, [3, 3], [1, 1], 'same')\n",
    "    x = tf.layers.max_pooling2d(x, [2, 2], [2, 2], 'same')\n",
    "    x = tf.nn.leaky_relu(x, 0.03)\n",
    "\n",
    "    x = tf.layers.conv2d(x, 64, [3, 3], [1, 1], 'same')\n",
    "    x = tf.layers.max_pooling2d(x, [2, 2], [2, 2], 'same')\n",
    "    x = tf.nn.leaky_relu(x, 0.03)\n",
    "\n",
    "    x = tf.layers.conv2d(x, 64, [3, 3], [1, 1], 'same')\n",
    "    x = tf.layers.average_pooling2d(x, [2, 2], [2, 2], 'same')\n",
    "\n",
    "    return tf.reshape(x, [x.shape[0], 64])"
   ]
  },
  {
   "cell_type": "markdown",
   "metadata": {},
   "source": [
    "At this point you might notice that save for the spatial transformer layer, each layer in our network $\\mathcal{N}$ has the property that for any scalar $c \\in \\mathbb{R}$\n",
    "   $$ \\mathcal{N}(c\\cdot\\text{image}) = c\\mathcal{N}(\\text{image}). $$\n",
    "\n",
    "which is quite a nice property because I expect that the saturation and the brightness of the image should not affect the output of the network. However, since the norm of the output is independent of its direction, and since I am using the cosine distance which is independent of the norm, the magnitude of the weights in collective do not affect the prediction of the network. Because of this, using weight decay may cause the weights to go so low that the predictions become unstable. To solve this problem, I also added another regularization condition that the norm of the output is approximately 1."
   ]
  },
  {
   "cell_type": "markdown",
   "metadata": {},
   "source": [
    "Below I define a class that puts everything together (including a function for training the network and one for predicting inputs.) In particular, you may notice that I choose to add the confusion matrix of the prediction of the fourier transform convnet and the regular image convnet rather than concatenate their output vectors and compute the confusion matrix from one final vector. This is (a.) to make it possible so that I can learn their relative contribution (using `self.balancer`) and (b.) to get two relatively independent predictions rather than one."
   ]
  },
  {
   "cell_type": "code",
   "execution_count": 21,
   "metadata": {},
   "outputs": [],
   "source": [
    "class MatchingNetwork:\n",
    "\n",
    "    def __init__(self, k):\n",
    "        self.k = k\n",
    "        self.inpsize = (105, 105)\n",
    "        self.cropsize = (32, 32)\n",
    "\n",
    "        self.pdrop = tf.placeholder(tf.float32)\n",
    "        self.rate = tf.placeholder(tf.float32)\n",
    "        self.inp = tf.placeholder(tf.float32, [2*k, *self.inpsize])\n",
    "\n",
    "        self.x = tf.reshape(self.inp, [*self.inp.shape, 1])\n",
    "        self.theta, self.t = transform(self.x, self.pdrop, self.cropsize)\n",
    "        self.t = tf.reshape(self.t, [2*k, *self.cropsize, 1])\n",
    "        self.u = tf.minimum(fft_norm(self.t) / 10, 10)\n",
    "\n",
    "        self.y = push(self.t, self.pdrop)\n",
    "        self.z = push(self.u, self.pdrop)\n",
    "\n",
    "        # start with high confidence\n",
    "        self.balancer = (wy, wz, wmax, wmin) = [\n",
    "            tf.Variable(2.0, dtype=tf.float32),\n",
    "            tf.Variable(2.0, dtype=tf.float32),\n",
    "            tf.Variable(2.0, dtype=tf.float32),\n",
    "            tf.Variable(2.0, dtype=tf.float32),\n",
    "        ]\n",
    "\n",
    "        self.yconfusion = pairwise_cosine(self.y[:k], self.y[k:])\n",
    "        self.zconfusion = pairwise_cosine(self.z[:k], self.z[k:])\n",
    "        self.confusion = (wy * self.yconfusion \n",
    "                        + wz * self.zconfusion\n",
    "                        + wmax * tf.maximum(self.yconfusion, self.zconfusion)\n",
    "                        + wmin * tf.minimum(self.yconfusion, self.zconfusion))\n",
    "        self.optimizer = tf.train.AdamOptimizer(self.rate / tf.norm(self.balancer))\n",
    "\n",
    "        # penalize vectors that are too large or too small\n",
    "        self.normloss = (tf.reduce_mean((tf.norm(self.y, axis=1) - 1) ** 2)\n",
    "                       + tf.reduce_mean((tf.norm(self.z, axis=1) - 1) ** 2)\n",
    "                       + tf.reduce_mean((tf.norm(self.s, axis=1) - 1) ** 2))\n",
    "        # self.l2loss = tf.reduce_sum([tf.reduce_mean(i**2) for i in tf.trainable_variables()])\n",
    "        self.loss = tf.nn.sparse_softmax_cross_entropy_with_logits(\n",
    "            logits=self.confusion, labels=np.arange(20))\n",
    "        self.train_ops = self.optimizer.minimize(\n",
    "            tf.reduce_sum(self.loss) + self.normloss)\n",
    "\n",
    "        self.sess = tf.Session()\n",
    "        self.sess.run(tf.global_variables_initializer())\n",
    "\n",
    "\n",
    "    def predict(self, aset, bset):\n",
    "        confusion = self.sess.run(self.confusion, feed_dict={\n",
    "            self.inp   : np.vstack([aset, bset]),\n",
    "            self.pdrop : 0.0\n",
    "        })\n",
    "        \n",
    "        exp = np.exp(confusion)\n",
    "        prob = (exp.T / exp.sum(axis=1)).T\n",
    "        logprob = np.log(prob)\n",
    "\n",
    "        # minimize confusion by finding the optimal \n",
    "        # (maximum probability) matching in the complete \n",
    "        # bipartite graph\n",
    "        return opti.linear_sum_assignment(-logprob)\n",
    "\n",
    "    def train(self, aset, bset, rate=1e-4):\n",
    "        # assume that for all i, aset[i] is the \n",
    "        # same character as bset[i]\n",
    "        \n",
    "        # to make sure that this doesn't introduce\n",
    "        # some bugs, we will permute the inputs when\n",
    "        # we test\n",
    "        p = [self.loss, self.train_ops]\n",
    "        l, _ = self.sess.run(p, feed_dict={\n",
    "            self.inp   : np.vstack([aset, bset]),\n",
    "            self.rate  : rate,\n",
    "            self.pdrop : 0.5\n",
    "        })\n",
    "\n",
    "        return l.mean()\n",
    "\n",
    "    def accuracy(self, stream):\n",
    "        apermutator = np.arange(self.k)\n",
    "        bpermutator = np.arange(self.k)\n",
    "        n_correct = 0\n",
    "        for aset, bset in stream:\n",
    "            rd.shuffle(apermutator)\n",
    "            rd.shuffle(bpermutator)\n",
    "            ashuffled = aset[apermutator]\n",
    "            bshuffled = bset[bpermutator]\n",
    "\n",
    "            apred, bpred = self.predict(ashuffled, bshuffled)\n",
    "            # prediction is that\n",
    "            # \n",
    "            #     aset[apermutator][apred] ~= bset[bpermutator][bpred]\n",
    "            # \n",
    "            # but we have that aset ~= bset, therefore, we must\n",
    "            # have that, if our prediction is correct, then\n",
    "            # \n",
    "            #     apermutator[apred] == bpermutator[bpred]\n",
    "            # \n",
    "            nc = np.sum(apermutator[apred] == bpermutator[bpred])\n",
    "            n_correct += nc\n",
    "        return n_correct"
   ]
  },
  {
   "cell_type": "markdown",
   "metadata": {},
   "source": [
    "Ok, the nitty gritty part starts here"
   ]
  },
  {
   "cell_type": "code",
   "execution_count": 22,
   "metadata": {},
   "outputs": [],
   "source": [
    "random.seed(0)\n",
    "tf.set_random_seed(0)\n",
    "rd.seed(0)\n",
    "\n",
    "m = MatchingNetwork(20) # twenty-way matching"
   ]
  },
  {
   "cell_type": "markdown",
   "metadata": {},
   "source": [
    "Below is shown the output of the untrained spatial transformer network (STN) (left) against the input image (right). Notice how the images are zoomed in. This is to force the STN to either learn weights or compromise the performance of the network."
   ]
  },
  {
   "cell_type": "code",
   "execution_count": 23,
   "metadata": {},
   "outputs": [
    {
     "data": {
      "image/png": "[encoded data removed]",
      "text/plain": [
       "<matplotlib.figure.Figure at 0x129856208>"
      ]
     },
     "metadata": {},
     "output_type": "display_data"
    }
   ],
   "source": [
    "aset, bset = util.sample(20, \"testing\")\n",
    "test = m.sess.run(m.t, feed_dict={\n",
    "    m.inp : np.vstack([aset, bset]),\n",
    "    m.pdrop : 0.5\n",
    "})\n",
    "test = test.reshape([-1, 32, 32])\n",
    "\n",
    "fig = plt.figure(figsize=(10, 10))\n",
    "a = fig.add_subplot(3,2,1)\n",
    "plt.imshow(test[0])\n",
    "a = fig.add_subplot(3,2,2)\n",
    "plt.imshow(aset[0])\n",
    "\n",
    "a = fig.add_subplot(3,2,3)\n",
    "plt.imshow(test[20])\n",
    "a = fig.add_subplot(3,2,4)\n",
    "plt.imshow(bset[0])\n",
    "\n",
    "plt.show()"
   ]
  },
  {
   "cell_type": "markdown",
   "metadata": {},
   "source": [
    "I define the function for training below. I partition our data set into three parts. The first one is the training data comprising of 964 characters. The next 100 characters form my validation set (which admittedly is a part of the evaluation set, so I am cheating at little here.) and finally the last 559 characters is my test set. Each character has twenty sample images.\n",
    "\n",
    "One function you will see below is util.sample which has the following signature\n",
    "\n",
    "    util.sample(k : int, mode : string, outsize : int) -> (numpy array, numpy array)\n",
    "   \n",
    "The function is defined in `util.py` and essentially runs samples two images each from `k` different characters, and apply some random augmentations (if `mode == \"training\"`) and return two arrays `(aset, bset)` such that for each `i`, `aset[i]` is the same character as `bset[i]`, but written by two different people. This sampling distribution (save the data augmentation) is follows the implementation in [1].\n"
   ]
  },
  {
   "cell_type": "code",
   "execution_count": 24,
   "metadata": {},
   "outputs": [
    {
     "name": "stdout",
     "output_type": "stream",
     "text": [
      "195 : 20 : 0.7633333333333334"
     ]
    },
    {
     "ename": "ValueError",
     "evalue": "matrix contains invalid numeric entries",
     "output_type": "error",
     "traceback": [
      "\u001b[0;31m---------------------------------------------------------------------------\u001b[0m",
      "\u001b[0;31mValueError\u001b[0m                                Traceback (most recent call last)",
      "\u001b[0;32m<ipython-input-24-1bdcb4e230d0>\u001b[0m in \u001b[0;36m<module>\u001b[0;34m()\u001b[0m\n\u001b[1;32m      6\u001b[0m \u001b[0;32mfor\u001b[0m \u001b[0mi\u001b[0m\u001b[0;34m,\u001b[0m \u001b[0mrate\u001b[0m \u001b[0;32min\u001b[0m \u001b[0menumerate\u001b[0m\u001b[0;34m(\u001b[0m\u001b[0mrate_range\u001b[0m\u001b[0;34m)\u001b[0m\u001b[0;34m:\u001b[0m\u001b[0;34m\u001b[0m\u001b[0m\n\u001b[1;32m      7\u001b[0m     \u001b[0;32mif\u001b[0m \u001b[0mi\u001b[0m \u001b[0;34m%\u001b[0m \u001b[0;36m6\u001b[0m \u001b[0;34m==\u001b[0m \u001b[0;36m0\u001b[0m\u001b[0;34m:\u001b[0m\u001b[0;34m\u001b[0m\u001b[0m\n\u001b[0;32m----> 8\u001b[0;31m         \u001b[0mnc\u001b[0m \u001b[0;34m=\u001b[0m \u001b[0mm\u001b[0m\u001b[0;34m.\u001b[0m\u001b[0maccuracy\u001b[0m\u001b[0;34m(\u001b[0m\u001b[0;34m[\u001b[0m\u001b[0mutil\u001b[0m\u001b[0;34m.\u001b[0m\u001b[0msample\u001b[0m\u001b[0;34m(\u001b[0m\u001b[0;36m20\u001b[0m\u001b[0;34m,\u001b[0m \u001b[0;34m\"validating\"\u001b[0m\u001b[0;34m)\u001b[0m\u001b[0;34m]\u001b[0m\u001b[0;34m)\u001b[0m\u001b[0;34m\u001b[0m\u001b[0m\n\u001b[0m\u001b[1;32m      9\u001b[0m         \u001b[0mhist_acc\u001b[0m\u001b[0;34m.\u001b[0m\u001b[0mappend\u001b[0m\u001b[0;34m(\u001b[0m\u001b[0mnc\u001b[0m\u001b[0;34m)\u001b[0m\u001b[0;34m\u001b[0m\u001b[0m\n\u001b[1;32m     10\u001b[0m         \u001b[0mlast_acc\u001b[0m \u001b[0;34m=\u001b[0m \u001b[0mhist_acc\u001b[0m\u001b[0;34m[\u001b[0m\u001b[0;34m-\u001b[0m\u001b[0;36m1\u001b[0m\u001b[0;34m]\u001b[0m\u001b[0;34m\u001b[0m\u001b[0m\n",
      "\u001b[0;32m<ipython-input-21-60b661f2a943>\u001b[0m in \u001b[0;36maccuracy\u001b[0;34m(self, stream)\u001b[0m\n\u001b[1;32m     88\u001b[0m             \u001b[0mbshuffled\u001b[0m \u001b[0;34m=\u001b[0m \u001b[0mbset\u001b[0m\u001b[0;34m[\u001b[0m\u001b[0mbpermutator\u001b[0m\u001b[0;34m]\u001b[0m\u001b[0;34m\u001b[0m\u001b[0m\n\u001b[1;32m     89\u001b[0m \u001b[0;34m\u001b[0m\u001b[0m\n\u001b[0;32m---> 90\u001b[0;31m             \u001b[0mapred\u001b[0m\u001b[0;34m,\u001b[0m \u001b[0mbpred\u001b[0m \u001b[0;34m=\u001b[0m \u001b[0mself\u001b[0m\u001b[0;34m.\u001b[0m\u001b[0mpredict\u001b[0m\u001b[0;34m(\u001b[0m\u001b[0mashuffled\u001b[0m\u001b[0;34m,\u001b[0m \u001b[0mbshuffled\u001b[0m\u001b[0;34m)\u001b[0m\u001b[0;34m\u001b[0m\u001b[0m\n\u001b[0m\u001b[1;32m     91\u001b[0m             \u001b[0;31m# prediction is that\u001b[0m\u001b[0;34m\u001b[0m\u001b[0;34m\u001b[0m\u001b[0m\n\u001b[1;32m     92\u001b[0m             \u001b[0;31m#\u001b[0m\u001b[0;34m\u001b[0m\u001b[0;34m\u001b[0m\u001b[0m\n",
      "\u001b[0;32m<ipython-input-21-60b661f2a943>\u001b[0m in \u001b[0;36mpredict\u001b[0;34m(self, aset, bset)\u001b[0m\n\u001b[1;32m     60\u001b[0m         \u001b[0;31m# (maximum probability) matching in the complete\u001b[0m\u001b[0;34m\u001b[0m\u001b[0;34m\u001b[0m\u001b[0m\n\u001b[1;32m     61\u001b[0m         \u001b[0;31m# bipartite graph\u001b[0m\u001b[0;34m\u001b[0m\u001b[0;34m\u001b[0m\u001b[0m\n\u001b[0;32m---> 62\u001b[0;31m         \u001b[0;32mreturn\u001b[0m \u001b[0mopti\u001b[0m\u001b[0;34m.\u001b[0m\u001b[0mlinear_sum_assignment\u001b[0m\u001b[0;34m(\u001b[0m\u001b[0;34m-\u001b[0m\u001b[0mlogprob\u001b[0m\u001b[0;34m)\u001b[0m\u001b[0;34m\u001b[0m\u001b[0m\n\u001b[0m\u001b[1;32m     63\u001b[0m \u001b[0;34m\u001b[0m\u001b[0m\n\u001b[1;32m     64\u001b[0m     \u001b[0;32mdef\u001b[0m \u001b[0mtrain\u001b[0m\u001b[0;34m(\u001b[0m\u001b[0mself\u001b[0m\u001b[0;34m,\u001b[0m \u001b[0maset\u001b[0m\u001b[0;34m,\u001b[0m \u001b[0mbset\u001b[0m\u001b[0;34m,\u001b[0m \u001b[0mrate\u001b[0m\u001b[0;34m=\u001b[0m\u001b[0;36m1e-4\u001b[0m\u001b[0;34m)\u001b[0m\u001b[0;34m:\u001b[0m\u001b[0;34m\u001b[0m\u001b[0m\n",
      "\u001b[0;32m~/learn/lib/python3.6/site-packages/scipy/optimize/_hungarian.py\u001b[0m in \u001b[0;36mlinear_sum_assignment\u001b[0;34m(cost_matrix)\u001b[0m\n\u001b[1;32m     91\u001b[0m \u001b[0;34m\u001b[0m\u001b[0m\n\u001b[1;32m     92\u001b[0m     \u001b[0;32mif\u001b[0m \u001b[0mnp\u001b[0m\u001b[0;34m.\u001b[0m\u001b[0many\u001b[0m\u001b[0;34m(\u001b[0m\u001b[0mnp\u001b[0m\u001b[0;34m.\u001b[0m\u001b[0misinf\u001b[0m\u001b[0;34m(\u001b[0m\u001b[0mcost_matrix\u001b[0m\u001b[0;34m)\u001b[0m \u001b[0;34m|\u001b[0m \u001b[0mnp\u001b[0m\u001b[0;34m.\u001b[0m\u001b[0misnan\u001b[0m\u001b[0;34m(\u001b[0m\u001b[0mcost_matrix\u001b[0m\u001b[0;34m)\u001b[0m\u001b[0;34m)\u001b[0m\u001b[0;34m:\u001b[0m\u001b[0;34m\u001b[0m\u001b[0m\n\u001b[0;32m---> 93\u001b[0;31m         \u001b[0;32mraise\u001b[0m \u001b[0mValueError\u001b[0m\u001b[0;34m(\u001b[0m\u001b[0;34m\"matrix contains invalid numeric entries\"\u001b[0m\u001b[0;34m)\u001b[0m\u001b[0;34m\u001b[0m\u001b[0m\n\u001b[0m\u001b[1;32m     94\u001b[0m \u001b[0;34m\u001b[0m\u001b[0m\n\u001b[1;32m     95\u001b[0m     \u001b[0;32mif\u001b[0m \u001b[0mcost_matrix\u001b[0m\u001b[0;34m.\u001b[0m\u001b[0mdtype\u001b[0m \u001b[0;34m==\u001b[0m \u001b[0mnp\u001b[0m\u001b[0;34m.\u001b[0m\u001b[0mdtype\u001b[0m\u001b[0;34m(\u001b[0m\u001b[0mnp\u001b[0m\u001b[0;34m.\u001b[0m\u001b[0mbool\u001b[0m\u001b[0;34m)\u001b[0m\u001b[0;34m:\u001b[0m\u001b[0;34m\u001b[0m\u001b[0m\n",
      "\u001b[0;31mValueError\u001b[0m: matrix contains invalid numeric entries"
     ]
    }
   ],
   "source": [
    "n = 300\n",
    "hist_acc = []\n",
    "rate_exp = -np.arange(12000) / 15000\n",
    "rate_range = np.exp(rate_exp) * 5e-4\n",
    "num_correct = 10\n",
    "for i, rate in enumerate(rate_range):\n",
    "    if i % 6 == 0:\n",
    "        nc = m.accuracy([util.sample(20, \"validating\")])\n",
    "        hist_acc.append(nc)\n",
    "        last_acc = hist_acc[-1]\n",
    "        running_acc = np.mean(hist_acc[-n:])/20\n",
    "        print(f\"\\r{len(hist_acc)} : {last_acc} : {running_acc}\", end=\"\")\n",
    "    aset, bset = util.sample(20, \"training\")\n",
    "    m.train(aset, bset, rate)"
   ]
  },
  {
   "cell_type": "code",
   "execution_count": null,
   "metadata": {},
   "outputs": [],
   "source": [
    "n = 150\n",
    "plt.plot([1 - np.mean(hist_acc[i:i+n]) / 20 for i in range(0, len(hist_acc)-n)])\n",
    "plt.title(\"validation error\")\n",
    "plt.xlabel(\"number of iterations (x6)\")\n",
    "plt.ylabel(f\"average prediction error over {n} trials\")\n",
    "# plt.yscale(\"log\")\n",
    "print(len(hist_acc), \":\", np.mean(np.array(hist_acc[-n:]) * 50))"
   ]
  },
  {
   "cell_type": "code",
   "execution_count": null,
   "metadata": {},
   "outputs": [],
   "source": [
    "# final_acc = m.accuracy(util.sample(20, \"testing\") for i in range(5000))\n",
    "# print(final_acc)"
   ]
  },
  {
   "cell_type": "code",
   "execution_count": null,
   "metadata": {},
   "outputs": [],
   "source": []
  },
  {
   "cell_type": "code",
   "execution_count": null,
   "metadata": {},
   "outputs": [],
   "source": []
  },
  {
   "cell_type": "code",
   "execution_count": null,
   "metadata": {},
   "outputs": [],
   "source": []
  },
  {
   "cell_type": "code",
   "execution_count": null,
   "metadata": {},
   "outputs": [],
   "source": []
  }
 ],
 "metadata": {
  "kernelspec": {
   "display_name": "Python 3",
   "language": "python",
   "name": "python3"
  },
  "language_info": {
   "codemirror_mode": {
    "name": "ipython",
    "version": 3
   },
   "file_extension": ".py",
   "mimetype": "text/x-python",
   "name": "python",
   "nbconvert_exporter": "python",
   "pygments_lexer": "ipython3",
   "version": "3.6.1"
  }
 },
 "nbformat": 4,
 "nbformat_minor": 2
}
