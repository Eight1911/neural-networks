{
 "cells": [
  {
   "cell_type": "code",
   "execution_count": 27,
   "metadata": {
    "collapsed": true,
    "deletable": true,
    "editable": true
   },
   "outputs": [],
   "source": [
    "from nltk.corpus import cmudict\n",
    "import nltk\n",
    "\n",
    "import itertools"
   ]
  },
  {
   "cell_type": "code",
   "execution_count": 67,
   "metadata": {
    "collapsed": false,
    "deletable": true,
    "editable": true
   },
   "outputs": [],
   "source": [
    "text = \"How can I ever make this into a moving stream of poetry?\"\n",
    "#text = \"I can't understand the power of words. (But I see this jaggernaut called silence?) There is so much to do here, and yet so little time. How can I ever see this in my life?\""
   ]
  },
  {
   "cell_type": "code",
   "execution_count": 68,
   "metadata": {
    "collapsed": false,
    "deletable": true,
    "editable": true,
    "scrolled": true
   },
   "outputs": [
    {
     "data": {
      "text/plain": [
       "[('How', 'WRB'),\n",
       " ('can', 'MD'),\n",
       " ('I', 'PRP'),\n",
       " ('ever', 'RB'),\n",
       " ('make', 'VB'),\n",
       " ('this', 'DT'),\n",
       " ('into', 'IN'),\n",
       " ('a', 'DT'),\n",
       " ('moving', 'VBG'),\n",
       " ('stream', 'NN'),\n",
       " ('of', 'IN'),\n",
       " ('poetry', 'NN'),\n",
       " ('?', '.')]"
      ]
     },
     "execution_count": 68,
     "metadata": {},
     "output_type": "execute_result"
    }
   ],
   "source": [
    "tokens = nltk.word_tokenize(text)\n",
    "tags = nltk.pos_tag(tokens)\n",
    "[word, tag for (word, tag) in tags if tags ]"
   ]
  },
  {
   "cell_type": "code",
   "execution_count": 109,
   "metadata": {
    "collapsed": false
   },
   "outputs": [
    {
     "name": "stdout",
     "output_type": "stream",
     "text": [
      "[('How', 'WRB'), ('can', 'MD'), ('I', 'PRP'), ('ever', 'RB'), ('make', 'VB'), ('this', 'DT'), ('into', 'IN'), ('a', 'DT'), ('(', '('), ('moving', 'VBG'), (')', ')'), ('stream', 'NN'), ('of', 'IN'), ('poetry', 'NN'), ('?', '.')]\n",
      "How can I ever\n",
      "make this into a (\n",
      "moving ) stream of poetry ?\n"
     ]
    }
   ],
   "source": [
    "k = haiku(\"How can I ever make this into a (moving) stream of poetry?\")\n",
    "for i in k.pair:\n",
    "    print(i)"
   ]
  },
  {
   "cell_type": "code",
   "execution_count": null,
   "metadata": {
    "collapsed": true
   },
   "outputs": [],
   "source": []
  }
 ],
 "metadata": {
  "kernelspec": {
   "display_name": "Python 3",
   "language": "python",
   "name": "python3"
  },
  "language_info": {
   "codemirror_mode": {
    "name": "ipython",
    "version": 3
   },
   "file_extension": ".py",
   "mimetype": "text/x-python",
   "name": "python",
   "nbconvert_exporter": "python",
   "pygments_lexer": "ipython3",
   "version": "3.6.0"
  }
 },
 "nbformat": 4,
 "nbformat_minor": 2
}
